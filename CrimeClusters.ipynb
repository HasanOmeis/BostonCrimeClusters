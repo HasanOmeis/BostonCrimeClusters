{
  "cells": [
    {
      "cell_type": "markdown",
      "metadata": {
        "id": "QxSzRTvxj9or"
      },
      "source": [
        "# Unsupervised Clustering\n",
        "\n",
        "by : Hasan Omeis\n",
        "____\n",
        "\n",
        "Here we'll take data about criminal accidents , which happend in Boston between 2015 & 2018 , and we need to classify it in unsupervised way , so we can take each segment to handle it later\n",
        "\n",
        "\n",
        "also you can find the data here : \n",
        "\n",
        "https://www.kaggle.com/AnalyzeBoston/crimes-in-boston/kernels\n",
        "\n",
        "\n",
        "____\n",
        "\n",
        "lets first import needed libraries\n",
        "\n"
      ]
    },
    {
      "cell_type": "code",
      "execution_count": 5,
      "metadata": {
        "id": "2_sNPe2mj9os"
      },
      "outputs": [],
      "source": [
        "import numpy as np\n",
        "import pandas as pd\n",
        "import matplotlib.pyplot as plt\n",
        "%matplotlib inline\n",
        "from sklearn.preprocessing import LabelEncoder\n",
        "from sklearn.cluster import KMeans\n",
        "from sklearn.neighbors import NearestNeighbors\n",
        "from sklearn.cluster import AgglomerativeClustering\n",
        "import scipy.cluster.hierarchy as sch"
      ]
    },
    {
      "cell_type": "markdown",
      "metadata": {
        "id": "nUazxWyHj9os"
      },
      "source": [
        "\n",
        "# Loading Data\n",
        "\n",
        "now lets read the data file , don't forget to specify the encoding to latin-1 to avoid any error"
      ]
    },
    {
      "cell_type": "code",
      "execution_count": 6,
      "metadata": {
        "colab": {
          "base_uri": "https://localhost:8080/",
          "height": 357
        },
        "id": "9kd5UjaUj9ot",
        "outputId": "7fe3bb8d-f842-4e61-856f-1c1473bb8642"
      },
      "outputs": [
        {
          "output_type": "execute_result",
          "data": {
            "text/plain": [
              "  INCIDENT_NUMBER  OFFENSE_CODE    OFFENSE_CODE_GROUP   OFFENSE_DESCRIPTION  \\\n",
              "0      I182070945           619               Larceny    LARCENY ALL OTHERS   \n",
              "1      I182070943          1402             Vandalism             VANDALISM   \n",
              "2      I182070941          3410                 Towed   TOWED MOTOR VEHICLE   \n",
              "3      I182070940          3114  Investigate Property  INVESTIGATE PROPERTY   \n",
              "4      I182070938          3114  Investigate Property  INVESTIGATE PROPERTY   \n",
              "\n",
              "  DISTRICT REPORTING_AREA SHOOTING OCCURRED_ON_DATE  YEAR  MONTH DAY_OF_WEEK  \\\n",
              "0      D14            808      NaN   9/2/2018 13:00  2018      9      Sunday   \n",
              "1      C11            347      NaN   8/21/2018 0:00  2018      8     Tuesday   \n",
              "2       D4            151      NaN   9/3/2018 19:27  2018      9      Monday   \n",
              "3       D4            272      NaN   9/3/2018 21:16  2018      9      Monday   \n",
              "4       B3            421      NaN   9/3/2018 21:05  2018      9      Monday   \n",
              "\n",
              "   HOUR    UCR_PART       STREET        Lat       Long  \\\n",
              "0    13    Part One   LINCOLN ST  42.357791 -71.139371   \n",
              "1     0    Part Two     HECLA ST  42.306821 -71.060300   \n",
              "2    19  Part Three  CAZENOVE ST  42.346589 -71.072429   \n",
              "3    21  Part Three   NEWCOMB ST  42.334182 -71.078664   \n",
              "4    21  Part Three     DELHI ST  42.275365 -71.090361   \n",
              "\n",
              "                      Location  \n",
              "0  (42.35779134, -71.13937053)  \n",
              "1  (42.30682138, -71.06030035)  \n",
              "2  (42.34658879, -71.07242943)  \n",
              "3  (42.33418175, -71.07866441)  \n",
              "4  (42.27536542, -71.09036101)  "
            ],
            "text/html": [
              "\n",
              "  <div id=\"df-149c34be-f875-4d2e-83e3-f7b18904e0d2\">\n",
              "    <div class=\"colab-df-container\">\n",
              "      <div>\n",
              "<style scoped>\n",
              "    .dataframe tbody tr th:only-of-type {\n",
              "        vertical-align: middle;\n",
              "    }\n",
              "\n",
              "    .dataframe tbody tr th {\n",
              "        vertical-align: top;\n",
              "    }\n",
              "\n",
              "    .dataframe thead th {\n",
              "        text-align: right;\n",
              "    }\n",
              "</style>\n",
              "<table border=\"1\" class=\"dataframe\">\n",
              "  <thead>\n",
              "    <tr style=\"text-align: right;\">\n",
              "      <th></th>\n",
              "      <th>INCIDENT_NUMBER</th>\n",
              "      <th>OFFENSE_CODE</th>\n",
              "      <th>OFFENSE_CODE_GROUP</th>\n",
              "      <th>OFFENSE_DESCRIPTION</th>\n",
              "      <th>DISTRICT</th>\n",
              "      <th>REPORTING_AREA</th>\n",
              "      <th>SHOOTING</th>\n",
              "      <th>OCCURRED_ON_DATE</th>\n",
              "      <th>YEAR</th>\n",
              "      <th>MONTH</th>\n",
              "      <th>DAY_OF_WEEK</th>\n",
              "      <th>HOUR</th>\n",
              "      <th>UCR_PART</th>\n",
              "      <th>STREET</th>\n",
              "      <th>Lat</th>\n",
              "      <th>Long</th>\n",
              "      <th>Location</th>\n",
              "    </tr>\n",
              "  </thead>\n",
              "  <tbody>\n",
              "    <tr>\n",
              "      <th>0</th>\n",
              "      <td>I182070945</td>\n",
              "      <td>619</td>\n",
              "      <td>Larceny</td>\n",
              "      <td>LARCENY ALL OTHERS</td>\n",
              "      <td>D14</td>\n",
              "      <td>808</td>\n",
              "      <td>NaN</td>\n",
              "      <td>9/2/2018 13:00</td>\n",
              "      <td>2018</td>\n",
              "      <td>9</td>\n",
              "      <td>Sunday</td>\n",
              "      <td>13</td>\n",
              "      <td>Part One</td>\n",
              "      <td>LINCOLN ST</td>\n",
              "      <td>42.357791</td>\n",
              "      <td>-71.139371</td>\n",
              "      <td>(42.35779134, -71.13937053)</td>\n",
              "    </tr>\n",
              "    <tr>\n",
              "      <th>1</th>\n",
              "      <td>I182070943</td>\n",
              "      <td>1402</td>\n",
              "      <td>Vandalism</td>\n",
              "      <td>VANDALISM</td>\n",
              "      <td>C11</td>\n",
              "      <td>347</td>\n",
              "      <td>NaN</td>\n",
              "      <td>8/21/2018 0:00</td>\n",
              "      <td>2018</td>\n",
              "      <td>8</td>\n",
              "      <td>Tuesday</td>\n",
              "      <td>0</td>\n",
              "      <td>Part Two</td>\n",
              "      <td>HECLA ST</td>\n",
              "      <td>42.306821</td>\n",
              "      <td>-71.060300</td>\n",
              "      <td>(42.30682138, -71.06030035)</td>\n",
              "    </tr>\n",
              "    <tr>\n",
              "      <th>2</th>\n",
              "      <td>I182070941</td>\n",
              "      <td>3410</td>\n",
              "      <td>Towed</td>\n",
              "      <td>TOWED MOTOR VEHICLE</td>\n",
              "      <td>D4</td>\n",
              "      <td>151</td>\n",
              "      <td>NaN</td>\n",
              "      <td>9/3/2018 19:27</td>\n",
              "      <td>2018</td>\n",
              "      <td>9</td>\n",
              "      <td>Monday</td>\n",
              "      <td>19</td>\n",
              "      <td>Part Three</td>\n",
              "      <td>CAZENOVE ST</td>\n",
              "      <td>42.346589</td>\n",
              "      <td>-71.072429</td>\n",
              "      <td>(42.34658879, -71.07242943)</td>\n",
              "    </tr>\n",
              "    <tr>\n",
              "      <th>3</th>\n",
              "      <td>I182070940</td>\n",
              "      <td>3114</td>\n",
              "      <td>Investigate Property</td>\n",
              "      <td>INVESTIGATE PROPERTY</td>\n",
              "      <td>D4</td>\n",
              "      <td>272</td>\n",
              "      <td>NaN</td>\n",
              "      <td>9/3/2018 21:16</td>\n",
              "      <td>2018</td>\n",
              "      <td>9</td>\n",
              "      <td>Monday</td>\n",
              "      <td>21</td>\n",
              "      <td>Part Three</td>\n",
              "      <td>NEWCOMB ST</td>\n",
              "      <td>42.334182</td>\n",
              "      <td>-71.078664</td>\n",
              "      <td>(42.33418175, -71.07866441)</td>\n",
              "    </tr>\n",
              "    <tr>\n",
              "      <th>4</th>\n",
              "      <td>I182070938</td>\n",
              "      <td>3114</td>\n",
              "      <td>Investigate Property</td>\n",
              "      <td>INVESTIGATE PROPERTY</td>\n",
              "      <td>B3</td>\n",
              "      <td>421</td>\n",
              "      <td>NaN</td>\n",
              "      <td>9/3/2018 21:05</td>\n",
              "      <td>2018</td>\n",
              "      <td>9</td>\n",
              "      <td>Monday</td>\n",
              "      <td>21</td>\n",
              "      <td>Part Three</td>\n",
              "      <td>DELHI ST</td>\n",
              "      <td>42.275365</td>\n",
              "      <td>-71.090361</td>\n",
              "      <td>(42.27536542, -71.09036101)</td>\n",
              "    </tr>\n",
              "  </tbody>\n",
              "</table>\n",
              "</div>\n",
              "      <button class=\"colab-df-convert\" onclick=\"convertToInteractive('df-149c34be-f875-4d2e-83e3-f7b18904e0d2')\"\n",
              "              title=\"Convert this dataframe to an interactive table.\"\n",
              "              style=\"display:none;\">\n",
              "        \n",
              "  <svg xmlns=\"http://www.w3.org/2000/svg\" height=\"24px\"viewBox=\"0 0 24 24\"\n",
              "       width=\"24px\">\n",
              "    <path d=\"M0 0h24v24H0V0z\" fill=\"none\"/>\n",
              "    <path d=\"M18.56 5.44l.94 2.06.94-2.06 2.06-.94-2.06-.94-.94-2.06-.94 2.06-2.06.94zm-11 1L8.5 8.5l.94-2.06 2.06-.94-2.06-.94L8.5 2.5l-.94 2.06-2.06.94zm10 10l.94 2.06.94-2.06 2.06-.94-2.06-.94-.94-2.06-.94 2.06-2.06.94z\"/><path d=\"M17.41 7.96l-1.37-1.37c-.4-.4-.92-.59-1.43-.59-.52 0-1.04.2-1.43.59L10.3 9.45l-7.72 7.72c-.78.78-.78 2.05 0 2.83L4 21.41c.39.39.9.59 1.41.59.51 0 1.02-.2 1.41-.59l7.78-7.78 2.81-2.81c.8-.78.8-2.07 0-2.86zM5.41 20L4 18.59l7.72-7.72 1.47 1.35L5.41 20z\"/>\n",
              "  </svg>\n",
              "      </button>\n",
              "      \n",
              "  <style>\n",
              "    .colab-df-container {\n",
              "      display:flex;\n",
              "      flex-wrap:wrap;\n",
              "      gap: 12px;\n",
              "    }\n",
              "\n",
              "    .colab-df-convert {\n",
              "      background-color: #E8F0FE;\n",
              "      border: none;\n",
              "      border-radius: 50%;\n",
              "      cursor: pointer;\n",
              "      display: none;\n",
              "      fill: #1967D2;\n",
              "      height: 32px;\n",
              "      padding: 0 0 0 0;\n",
              "      width: 32px;\n",
              "    }\n",
              "\n",
              "    .colab-df-convert:hover {\n",
              "      background-color: #E2EBFA;\n",
              "      box-shadow: 0px 1px 2px rgba(60, 64, 67, 0.3), 0px 1px 3px 1px rgba(60, 64, 67, 0.15);\n",
              "      fill: #174EA6;\n",
              "    }\n",
              "\n",
              "    [theme=dark] .colab-df-convert {\n",
              "      background-color: #3B4455;\n",
              "      fill: #D2E3FC;\n",
              "    }\n",
              "\n",
              "    [theme=dark] .colab-df-convert:hover {\n",
              "      background-color: #434B5C;\n",
              "      box-shadow: 0px 1px 3px 1px rgba(0, 0, 0, 0.15);\n",
              "      filter: drop-shadow(0px 1px 2px rgba(0, 0, 0, 0.3));\n",
              "      fill: #FFFFFF;\n",
              "    }\n",
              "  </style>\n",
              "\n",
              "      <script>\n",
              "        const buttonEl =\n",
              "          document.querySelector('#df-149c34be-f875-4d2e-83e3-f7b18904e0d2 button.colab-df-convert');\n",
              "        buttonEl.style.display =\n",
              "          google.colab.kernel.accessAllowed ? 'block' : 'none';\n",
              "\n",
              "        async function convertToInteractive(key) {\n",
              "          const element = document.querySelector('#df-149c34be-f875-4d2e-83e3-f7b18904e0d2');\n",
              "          const dataTable =\n",
              "            await google.colab.kernel.invokeFunction('convertToInteractive',\n",
              "                                                     [key], {});\n",
              "          if (!dataTable) return;\n",
              "\n",
              "          const docLinkHtml = 'Like what you see? Visit the ' +\n",
              "            '<a target=\"_blank\" href=https://colab.research.google.com/notebooks/data_table.ipynb>data table notebook</a>'\n",
              "            + ' to learn more about interactive tables.';\n",
              "          element.innerHTML = '';\n",
              "          dataTable['output_type'] = 'display_data';\n",
              "          await google.colab.output.renderOutput(dataTable, element);\n",
              "          const docLink = document.createElement('div');\n",
              "          docLink.innerHTML = docLinkHtml;\n",
              "          element.appendChild(docLink);\n",
              "        }\n",
              "      </script>\n",
              "    </div>\n",
              "  </div>\n",
              "  "
            ]
          },
          "metadata": {},
          "execution_count": 6
        }
      ],
      "source": [
        "data = pd.read_csv('/content/crime.csv', encoding='latin-1')\n",
        "\n",
        "data.head()"
      ]
    },
    {
      "cell_type": "markdown",
      "metadata": {
        "id": "HXKsEr7bj9ot"
      },
      "source": [
        "\n",
        "_____\n",
        "\n",
        "\n",
        "looks a mixed data which containsboth numerical & categorical values , lets check the shape\n",
        "\n"
      ]
    },
    {
      "cell_type": "code",
      "execution_count": 7,
      "metadata": {
        "id": "-xeXEIvwj9ot",
        "colab": {
          "base_uri": "https://localhost:8080/"
        },
        "outputId": "6cde855d-d592-4fba-8c73-a8c51cab2e77"
      },
      "outputs": [
        {
          "output_type": "execute_result",
          "data": {
            "text/plain": [
              "(319073, 17)"
            ]
          },
          "metadata": {},
          "execution_count": 7
        }
      ],
      "source": [
        "data.shape"
      ]
    },
    {
      "cell_type": "markdown",
      "metadata": {
        "id": "jDERCj2Kj9ou"
      },
      "source": [
        "how about the range of numbers of numerical values . . "
      ]
    },
    {
      "cell_type": "code",
      "execution_count": 8,
      "metadata": {
        "id": "wqTEQ_B8j9ou",
        "colab": {
          "base_uri": "https://localhost:8080/",
          "height": 300
        },
        "outputId": "e6bef71f-fdb7-44fb-852a-3996ffa25956"
      },
      "outputs": [
        {
          "output_type": "execute_result",
          "data": {
            "text/plain": [
              "        OFFENSE_CODE           YEAR          MONTH           HOUR  \\\n",
              "count  319073.000000  319073.000000  319073.000000  319073.000000   \n",
              "mean     2317.546956    2016.560586       6.609719      13.118205   \n",
              "std      1185.285543       0.996344       3.273691       6.294205   \n",
              "min       111.000000    2015.000000       1.000000       0.000000   \n",
              "25%      1001.000000    2016.000000       4.000000       9.000000   \n",
              "50%      2907.000000    2017.000000       7.000000      14.000000   \n",
              "75%      3201.000000    2017.000000       9.000000      18.000000   \n",
              "max      3831.000000    2018.000000      12.000000      23.000000   \n",
              "\n",
              "                 Lat           Long  \n",
              "count  299074.000000  299074.000000  \n",
              "mean       42.214381     -70.908272  \n",
              "std         2.159766       3.493618  \n",
              "min        -1.000000     -71.178674  \n",
              "25%        42.297442     -71.097135  \n",
              "50%        42.325538     -71.077524  \n",
              "75%        42.348624     -71.062467  \n",
              "max        42.395042      -1.000000  "
            ],
            "text/html": [
              "\n",
              "  <div id=\"df-0e1a49cf-6aa7-4b03-98b3-5c9da45db93f\">\n",
              "    <div class=\"colab-df-container\">\n",
              "      <div>\n",
              "<style scoped>\n",
              "    .dataframe tbody tr th:only-of-type {\n",
              "        vertical-align: middle;\n",
              "    }\n",
              "\n",
              "    .dataframe tbody tr th {\n",
              "        vertical-align: top;\n",
              "    }\n",
              "\n",
              "    .dataframe thead th {\n",
              "        text-align: right;\n",
              "    }\n",
              "</style>\n",
              "<table border=\"1\" class=\"dataframe\">\n",
              "  <thead>\n",
              "    <tr style=\"text-align: right;\">\n",
              "      <th></th>\n",
              "      <th>OFFENSE_CODE</th>\n",
              "      <th>YEAR</th>\n",
              "      <th>MONTH</th>\n",
              "      <th>HOUR</th>\n",
              "      <th>Lat</th>\n",
              "      <th>Long</th>\n",
              "    </tr>\n",
              "  </thead>\n",
              "  <tbody>\n",
              "    <tr>\n",
              "      <th>count</th>\n",
              "      <td>319073.000000</td>\n",
              "      <td>319073.000000</td>\n",
              "      <td>319073.000000</td>\n",
              "      <td>319073.000000</td>\n",
              "      <td>299074.000000</td>\n",
              "      <td>299074.000000</td>\n",
              "    </tr>\n",
              "    <tr>\n",
              "      <th>mean</th>\n",
              "      <td>2317.546956</td>\n",
              "      <td>2016.560586</td>\n",
              "      <td>6.609719</td>\n",
              "      <td>13.118205</td>\n",
              "      <td>42.214381</td>\n",
              "      <td>-70.908272</td>\n",
              "    </tr>\n",
              "    <tr>\n",
              "      <th>std</th>\n",
              "      <td>1185.285543</td>\n",
              "      <td>0.996344</td>\n",
              "      <td>3.273691</td>\n",
              "      <td>6.294205</td>\n",
              "      <td>2.159766</td>\n",
              "      <td>3.493618</td>\n",
              "    </tr>\n",
              "    <tr>\n",
              "      <th>min</th>\n",
              "      <td>111.000000</td>\n",
              "      <td>2015.000000</td>\n",
              "      <td>1.000000</td>\n",
              "      <td>0.000000</td>\n",
              "      <td>-1.000000</td>\n",
              "      <td>-71.178674</td>\n",
              "    </tr>\n",
              "    <tr>\n",
              "      <th>25%</th>\n",
              "      <td>1001.000000</td>\n",
              "      <td>2016.000000</td>\n",
              "      <td>4.000000</td>\n",
              "      <td>9.000000</td>\n",
              "      <td>42.297442</td>\n",
              "      <td>-71.097135</td>\n",
              "    </tr>\n",
              "    <tr>\n",
              "      <th>50%</th>\n",
              "      <td>2907.000000</td>\n",
              "      <td>2017.000000</td>\n",
              "      <td>7.000000</td>\n",
              "      <td>14.000000</td>\n",
              "      <td>42.325538</td>\n",
              "      <td>-71.077524</td>\n",
              "    </tr>\n",
              "    <tr>\n",
              "      <th>75%</th>\n",
              "      <td>3201.000000</td>\n",
              "      <td>2017.000000</td>\n",
              "      <td>9.000000</td>\n",
              "      <td>18.000000</td>\n",
              "      <td>42.348624</td>\n",
              "      <td>-71.062467</td>\n",
              "    </tr>\n",
              "    <tr>\n",
              "      <th>max</th>\n",
              "      <td>3831.000000</td>\n",
              "      <td>2018.000000</td>\n",
              "      <td>12.000000</td>\n",
              "      <td>23.000000</td>\n",
              "      <td>42.395042</td>\n",
              "      <td>-1.000000</td>\n",
              "    </tr>\n",
              "  </tbody>\n",
              "</table>\n",
              "</div>\n",
              "      <button class=\"colab-df-convert\" onclick=\"convertToInteractive('df-0e1a49cf-6aa7-4b03-98b3-5c9da45db93f')\"\n",
              "              title=\"Convert this dataframe to an interactive table.\"\n",
              "              style=\"display:none;\">\n",
              "        \n",
              "  <svg xmlns=\"http://www.w3.org/2000/svg\" height=\"24px\"viewBox=\"0 0 24 24\"\n",
              "       width=\"24px\">\n",
              "    <path d=\"M0 0h24v24H0V0z\" fill=\"none\"/>\n",
              "    <path d=\"M18.56 5.44l.94 2.06.94-2.06 2.06-.94-2.06-.94-.94-2.06-.94 2.06-2.06.94zm-11 1L8.5 8.5l.94-2.06 2.06-.94-2.06-.94L8.5 2.5l-.94 2.06-2.06.94zm10 10l.94 2.06.94-2.06 2.06-.94-2.06-.94-.94-2.06-.94 2.06-2.06.94z\"/><path d=\"M17.41 7.96l-1.37-1.37c-.4-.4-.92-.59-1.43-.59-.52 0-1.04.2-1.43.59L10.3 9.45l-7.72 7.72c-.78.78-.78 2.05 0 2.83L4 21.41c.39.39.9.59 1.41.59.51 0 1.02-.2 1.41-.59l7.78-7.78 2.81-2.81c.8-.78.8-2.07 0-2.86zM5.41 20L4 18.59l7.72-7.72 1.47 1.35L5.41 20z\"/>\n",
              "  </svg>\n",
              "      </button>\n",
              "      \n",
              "  <style>\n",
              "    .colab-df-container {\n",
              "      display:flex;\n",
              "      flex-wrap:wrap;\n",
              "      gap: 12px;\n",
              "    }\n",
              "\n",
              "    .colab-df-convert {\n",
              "      background-color: #E8F0FE;\n",
              "      border: none;\n",
              "      border-radius: 50%;\n",
              "      cursor: pointer;\n",
              "      display: none;\n",
              "      fill: #1967D2;\n",
              "      height: 32px;\n",
              "      padding: 0 0 0 0;\n",
              "      width: 32px;\n",
              "    }\n",
              "\n",
              "    .colab-df-convert:hover {\n",
              "      background-color: #E2EBFA;\n",
              "      box-shadow: 0px 1px 2px rgba(60, 64, 67, 0.3), 0px 1px 3px 1px rgba(60, 64, 67, 0.15);\n",
              "      fill: #174EA6;\n",
              "    }\n",
              "\n",
              "    [theme=dark] .colab-df-convert {\n",
              "      background-color: #3B4455;\n",
              "      fill: #D2E3FC;\n",
              "    }\n",
              "\n",
              "    [theme=dark] .colab-df-convert:hover {\n",
              "      background-color: #434B5C;\n",
              "      box-shadow: 0px 1px 3px 1px rgba(0, 0, 0, 0.15);\n",
              "      filter: drop-shadow(0px 1px 2px rgba(0, 0, 0, 0.3));\n",
              "      fill: #FFFFFF;\n",
              "    }\n",
              "  </style>\n",
              "\n",
              "      <script>\n",
              "        const buttonEl =\n",
              "          document.querySelector('#df-0e1a49cf-6aa7-4b03-98b3-5c9da45db93f button.colab-df-convert');\n",
              "        buttonEl.style.display =\n",
              "          google.colab.kernel.accessAllowed ? 'block' : 'none';\n",
              "\n",
              "        async function convertToInteractive(key) {\n",
              "          const element = document.querySelector('#df-0e1a49cf-6aa7-4b03-98b3-5c9da45db93f');\n",
              "          const dataTable =\n",
              "            await google.colab.kernel.invokeFunction('convertToInteractive',\n",
              "                                                     [key], {});\n",
              "          if (!dataTable) return;\n",
              "\n",
              "          const docLinkHtml = 'Like what you see? Visit the ' +\n",
              "            '<a target=\"_blank\" href=https://colab.research.google.com/notebooks/data_table.ipynb>data table notebook</a>'\n",
              "            + ' to learn more about interactive tables.';\n",
              "          element.innerHTML = '';\n",
              "          dataTable['output_type'] = 'display_data';\n",
              "          await google.colab.output.renderOutput(dataTable, element);\n",
              "          const docLink = document.createElement('div');\n",
              "          docLink.innerHTML = docLinkHtml;\n",
              "          element.appendChild(docLink);\n",
              "        }\n",
              "      </script>\n",
              "    </div>\n",
              "  </div>\n",
              "  "
            ]
          },
          "metadata": {},
          "execution_count": 8
        }
      ],
      "source": [
        "data.describe()"
      ]
    },
    {
      "cell_type": "markdown",
      "metadata": {
        "id": "gZWjuykDj9ou"
      },
      "source": [
        "_____\n",
        "\n",
        "when you look carfeully at the numbers , you can see the Offense Code is not a \"numerical value\" , but looks categorical \n",
        "\n",
        "also min year is 2015 & max is 2016\n",
        "\n",
        "also for Lat & Long values , almost all of them around (42 , -71) , which refer to Boston city . . \n",
        "\n",
        "how about the Nulls ? \n"
      ]
    },
    {
      "cell_type": "code",
      "execution_count": 9,
      "metadata": {
        "id": "KQur_nJRj9ou",
        "colab": {
          "base_uri": "https://localhost:8080/"
        },
        "outputId": "8188d7ff-e24f-4d74-c732-8188e7c4c01b"
      },
      "outputs": [
        {
          "output_type": "stream",
          "name": "stdout",
          "text": [
            "<class 'pandas.core.frame.DataFrame'>\n",
            "RangeIndex: 319073 entries, 0 to 319072\n",
            "Data columns (total 17 columns):\n",
            " #   Column               Non-Null Count   Dtype  \n",
            "---  ------               --------------   -----  \n",
            " 0   INCIDENT_NUMBER      319073 non-null  object \n",
            " 1   OFFENSE_CODE         319073 non-null  int64  \n",
            " 2   OFFENSE_CODE_GROUP   319073 non-null  object \n",
            " 3   OFFENSE_DESCRIPTION  319073 non-null  object \n",
            " 4   DISTRICT             317308 non-null  object \n",
            " 5   REPORTING_AREA       319073 non-null  object \n",
            " 6   SHOOTING             1019 non-null    object \n",
            " 7   OCCURRED_ON_DATE     319073 non-null  object \n",
            " 8   YEAR                 319073 non-null  int64  \n",
            " 9   MONTH                319073 non-null  int64  \n",
            " 10  DAY_OF_WEEK          319073 non-null  object \n",
            " 11  HOUR                 319073 non-null  int64  \n",
            " 12  UCR_PART             318983 non-null  object \n",
            " 13  STREET               308202 non-null  object \n",
            " 14  Lat                  299074 non-null  float64\n",
            " 15  Long                 299074 non-null  float64\n",
            " 16  Location             319073 non-null  object \n",
            "dtypes: float64(2), int64(4), object(11)\n",
            "memory usage: 41.4+ MB\n"
          ]
        }
      ],
      "source": [
        "data.info()"
      ]
    },
    {
      "cell_type": "markdown",
      "metadata": {
        "id": "aJ1gfdyuj9ou"
      },
      "source": [
        "____\n",
        "\n",
        "# Data Processing\n",
        "\n",
        "a huge amount of nulls at Shooting feature , also exists in ( District , UCR Part , Street , both Lat & Long )\n",
        "\n",
        "before handling nulls or making categorical , we need to look at unique values , so we can drop features which have a very big amount of unique values , which will never help us in categorical features\n",
        "\n"
      ]
    },
    {
      "cell_type": "code",
      "execution_count": 10,
      "metadata": {
        "id": "ZWgv0ihej9ou",
        "colab": {
          "base_uri": "https://localhost:8080/"
        },
        "outputId": "29433e50-14e2-4295-aa45-13683dc28a63"
      },
      "outputs": [
        {
          "output_type": "stream",
          "name": "stdout",
          "text": [
            "Length of unique data for INCIDENT_NUMBER is 282517 \n",
            "Length of unique data for OFFENSE_CODE is 222 \n",
            "Length of unique data for OFFENSE_CODE_GROUP is 67 \n",
            "Length of unique data for OFFENSE_DESCRIPTION is 244 \n",
            "Length of unique data for DISTRICT is 13 \n",
            "Length of unique data for REPORTING_AREA is 879 \n",
            "Length of unique data for SHOOTING is 2 \n",
            "Length of unique data for OCCURRED_ON_DATE is 232566 \n",
            "Length of unique data for YEAR is 4 \n",
            "Length of unique data for MONTH is 12 \n",
            "Length of unique data for DAY_OF_WEEK is 7 \n",
            "Length of unique data for HOUR is 24 \n",
            "Length of unique data for UCR_PART is 5 \n",
            "Length of unique data for STREET is 4658 \n",
            "Length of unique data for Lat is 18179 \n",
            "Length of unique data for Long is 18179 \n",
            "Length of unique data for Location is 18194 \n"
          ]
        }
      ],
      "source": [
        "for column in data.columns : \n",
        "    print('Length of unique data for {0} is {1} '.format(column , len(data[column].unique())))\n",
        "    "
      ]
    },
    {
      "cell_type": "markdown",
      "metadata": {
        "id": "jpTbaSvYj9ov"
      },
      "source": [
        "_____\n",
        "\n",
        "Ok , Incident Number is anyway a reference number which will not help in training. . \n",
        "\n",
        "and the date will not help us so much since we'll keep the data of ( year , month & weekday ). \n",
        "\n",
        "also street feature have a huge amount of unique values so we can drop it since we'll keep long & lat , and we'll drop reporting area and ocation for the same reason . \n",
        "\n",
        "also we can drop offense code since we'llkeep offense code group to avoid make 222 values at get_dummies .\n",
        "\n",
        "lets drop unhelpful features . . \n",
        "\n",
        "\n"
      ]
    },
    {
      "cell_type": "code",
      "execution_count": 11,
      "metadata": {
        "id": "bqUhu85kj9ov",
        "colab": {
          "base_uri": "https://localhost:8080/",
          "height": 340
        },
        "outputId": "d98b8d61-f87b-4ff7-bafc-69f63bf77ca6"
      },
      "outputs": [
        {
          "output_type": "execute_result",
          "data": {
            "text/plain": [
              "     OFFENSE_CODE_GROUP   OFFENSE_DESCRIPTION DISTRICT SHOOTING  YEAR  MONTH  \\\n",
              "0               Larceny    LARCENY ALL OTHERS      D14      NaN  2018      9   \n",
              "1             Vandalism             VANDALISM      C11      NaN  2018      8   \n",
              "2                 Towed   TOWED MOTOR VEHICLE       D4      NaN  2018      9   \n",
              "3  Investigate Property  INVESTIGATE PROPERTY       D4      NaN  2018      9   \n",
              "4  Investigate Property  INVESTIGATE PROPERTY       B3      NaN  2018      9   \n",
              "\n",
              "  DAY_OF_WEEK  HOUR    UCR_PART        Lat       Long  \n",
              "0      Sunday    13    Part One  42.357791 -71.139371  \n",
              "1     Tuesday     0    Part Two  42.306821 -71.060300  \n",
              "2      Monday    19  Part Three  42.346589 -71.072429  \n",
              "3      Monday    21  Part Three  42.334182 -71.078664  \n",
              "4      Monday    21  Part Three  42.275365 -71.090361  "
            ],
            "text/html": [
              "\n",
              "  <div id=\"df-129830b9-2f1d-4473-9ac8-aa88c9b14c2a\">\n",
              "    <div class=\"colab-df-container\">\n",
              "      <div>\n",
              "<style scoped>\n",
              "    .dataframe tbody tr th:only-of-type {\n",
              "        vertical-align: middle;\n",
              "    }\n",
              "\n",
              "    .dataframe tbody tr th {\n",
              "        vertical-align: top;\n",
              "    }\n",
              "\n",
              "    .dataframe thead th {\n",
              "        text-align: right;\n",
              "    }\n",
              "</style>\n",
              "<table border=\"1\" class=\"dataframe\">\n",
              "  <thead>\n",
              "    <tr style=\"text-align: right;\">\n",
              "      <th></th>\n",
              "      <th>OFFENSE_CODE_GROUP</th>\n",
              "      <th>OFFENSE_DESCRIPTION</th>\n",
              "      <th>DISTRICT</th>\n",
              "      <th>SHOOTING</th>\n",
              "      <th>YEAR</th>\n",
              "      <th>MONTH</th>\n",
              "      <th>DAY_OF_WEEK</th>\n",
              "      <th>HOUR</th>\n",
              "      <th>UCR_PART</th>\n",
              "      <th>Lat</th>\n",
              "      <th>Long</th>\n",
              "    </tr>\n",
              "  </thead>\n",
              "  <tbody>\n",
              "    <tr>\n",
              "      <th>0</th>\n",
              "      <td>Larceny</td>\n",
              "      <td>LARCENY ALL OTHERS</td>\n",
              "      <td>D14</td>\n",
              "      <td>NaN</td>\n",
              "      <td>2018</td>\n",
              "      <td>9</td>\n",
              "      <td>Sunday</td>\n",
              "      <td>13</td>\n",
              "      <td>Part One</td>\n",
              "      <td>42.357791</td>\n",
              "      <td>-71.139371</td>\n",
              "    </tr>\n",
              "    <tr>\n",
              "      <th>1</th>\n",
              "      <td>Vandalism</td>\n",
              "      <td>VANDALISM</td>\n",
              "      <td>C11</td>\n",
              "      <td>NaN</td>\n",
              "      <td>2018</td>\n",
              "      <td>8</td>\n",
              "      <td>Tuesday</td>\n",
              "      <td>0</td>\n",
              "      <td>Part Two</td>\n",
              "      <td>42.306821</td>\n",
              "      <td>-71.060300</td>\n",
              "    </tr>\n",
              "    <tr>\n",
              "      <th>2</th>\n",
              "      <td>Towed</td>\n",
              "      <td>TOWED MOTOR VEHICLE</td>\n",
              "      <td>D4</td>\n",
              "      <td>NaN</td>\n",
              "      <td>2018</td>\n",
              "      <td>9</td>\n",
              "      <td>Monday</td>\n",
              "      <td>19</td>\n",
              "      <td>Part Three</td>\n",
              "      <td>42.346589</td>\n",
              "      <td>-71.072429</td>\n",
              "    </tr>\n",
              "    <tr>\n",
              "      <th>3</th>\n",
              "      <td>Investigate Property</td>\n",
              "      <td>INVESTIGATE PROPERTY</td>\n",
              "      <td>D4</td>\n",
              "      <td>NaN</td>\n",
              "      <td>2018</td>\n",
              "      <td>9</td>\n",
              "      <td>Monday</td>\n",
              "      <td>21</td>\n",
              "      <td>Part Three</td>\n",
              "      <td>42.334182</td>\n",
              "      <td>-71.078664</td>\n",
              "    </tr>\n",
              "    <tr>\n",
              "      <th>4</th>\n",
              "      <td>Investigate Property</td>\n",
              "      <td>INVESTIGATE PROPERTY</td>\n",
              "      <td>B3</td>\n",
              "      <td>NaN</td>\n",
              "      <td>2018</td>\n",
              "      <td>9</td>\n",
              "      <td>Monday</td>\n",
              "      <td>21</td>\n",
              "      <td>Part Three</td>\n",
              "      <td>42.275365</td>\n",
              "      <td>-71.090361</td>\n",
              "    </tr>\n",
              "  </tbody>\n",
              "</table>\n",
              "</div>\n",
              "      <button class=\"colab-df-convert\" onclick=\"convertToInteractive('df-129830b9-2f1d-4473-9ac8-aa88c9b14c2a')\"\n",
              "              title=\"Convert this dataframe to an interactive table.\"\n",
              "              style=\"display:none;\">\n",
              "        \n",
              "  <svg xmlns=\"http://www.w3.org/2000/svg\" height=\"24px\"viewBox=\"0 0 24 24\"\n",
              "       width=\"24px\">\n",
              "    <path d=\"M0 0h24v24H0V0z\" fill=\"none\"/>\n",
              "    <path d=\"M18.56 5.44l.94 2.06.94-2.06 2.06-.94-2.06-.94-.94-2.06-.94 2.06-2.06.94zm-11 1L8.5 8.5l.94-2.06 2.06-.94-2.06-.94L8.5 2.5l-.94 2.06-2.06.94zm10 10l.94 2.06.94-2.06 2.06-.94-2.06-.94-.94-2.06-.94 2.06-2.06.94z\"/><path d=\"M17.41 7.96l-1.37-1.37c-.4-.4-.92-.59-1.43-.59-.52 0-1.04.2-1.43.59L10.3 9.45l-7.72 7.72c-.78.78-.78 2.05 0 2.83L4 21.41c.39.39.9.59 1.41.59.51 0 1.02-.2 1.41-.59l7.78-7.78 2.81-2.81c.8-.78.8-2.07 0-2.86zM5.41 20L4 18.59l7.72-7.72 1.47 1.35L5.41 20z\"/>\n",
              "  </svg>\n",
              "      </button>\n",
              "      \n",
              "  <style>\n",
              "    .colab-df-container {\n",
              "      display:flex;\n",
              "      flex-wrap:wrap;\n",
              "      gap: 12px;\n",
              "    }\n",
              "\n",
              "    .colab-df-convert {\n",
              "      background-color: #E8F0FE;\n",
              "      border: none;\n",
              "      border-radius: 50%;\n",
              "      cursor: pointer;\n",
              "      display: none;\n",
              "      fill: #1967D2;\n",
              "      height: 32px;\n",
              "      padding: 0 0 0 0;\n",
              "      width: 32px;\n",
              "    }\n",
              "\n",
              "    .colab-df-convert:hover {\n",
              "      background-color: #E2EBFA;\n",
              "      box-shadow: 0px 1px 2px rgba(60, 64, 67, 0.3), 0px 1px 3px 1px rgba(60, 64, 67, 0.15);\n",
              "      fill: #174EA6;\n",
              "    }\n",
              "\n",
              "    [theme=dark] .colab-df-convert {\n",
              "      background-color: #3B4455;\n",
              "      fill: #D2E3FC;\n",
              "    }\n",
              "\n",
              "    [theme=dark] .colab-df-convert:hover {\n",
              "      background-color: #434B5C;\n",
              "      box-shadow: 0px 1px 3px 1px rgba(0, 0, 0, 0.15);\n",
              "      filter: drop-shadow(0px 1px 2px rgba(0, 0, 0, 0.3));\n",
              "      fill: #FFFFFF;\n",
              "    }\n",
              "  </style>\n",
              "\n",
              "      <script>\n",
              "        const buttonEl =\n",
              "          document.querySelector('#df-129830b9-2f1d-4473-9ac8-aa88c9b14c2a button.colab-df-convert');\n",
              "        buttonEl.style.display =\n",
              "          google.colab.kernel.accessAllowed ? 'block' : 'none';\n",
              "\n",
              "        async function convertToInteractive(key) {\n",
              "          const element = document.querySelector('#df-129830b9-2f1d-4473-9ac8-aa88c9b14c2a');\n",
              "          const dataTable =\n",
              "            await google.colab.kernel.invokeFunction('convertToInteractive',\n",
              "                                                     [key], {});\n",
              "          if (!dataTable) return;\n",
              "\n",
              "          const docLinkHtml = 'Like what you see? Visit the ' +\n",
              "            '<a target=\"_blank\" href=https://colab.research.google.com/notebooks/data_table.ipynb>data table notebook</a>'\n",
              "            + ' to learn more about interactive tables.';\n",
              "          element.innerHTML = '';\n",
              "          dataTable['output_type'] = 'display_data';\n",
              "          await google.colab.output.renderOutput(dataTable, element);\n",
              "          const docLink = document.createElement('div');\n",
              "          docLink.innerHTML = docLinkHtml;\n",
              "          element.appendChild(docLink);\n",
              "        }\n",
              "      </script>\n",
              "    </div>\n",
              "  </div>\n",
              "  "
            ]
          },
          "metadata": {},
          "execution_count": 11
        }
      ],
      "source": [
        "data.drop(['INCIDENT_NUMBER' , 'OCCURRED_ON_DATE' ,'STREET' , 'OFFENSE_CODE' , 'REPORTING_AREA','Location'],axis=1, inplace=True)\n",
        "\n",
        "data.head()"
      ]
    },
    {
      "cell_type": "markdown",
      "metadata": {
        "id": "t7Y_JccVj9ov"
      },
      "source": [
        "lets check it now  "
      ]
    },
    {
      "cell_type": "code",
      "execution_count": 12,
      "metadata": {
        "id": "ovsH_W6ej9ow",
        "colab": {
          "base_uri": "https://localhost:8080/"
        },
        "outputId": "22d6d84c-300c-4c3e-bbd5-492e6be674fe"
      },
      "outputs": [
        {
          "output_type": "stream",
          "name": "stdout",
          "text": [
            "Length of unique data for OFFENSE_CODE_GROUP is 67 \n",
            "Length of unique data for OFFENSE_DESCRIPTION is 244 \n",
            "Length of unique data for DISTRICT is 13 \n",
            "Length of unique data for SHOOTING is 2 \n",
            "Length of unique data for YEAR is 4 \n",
            "Length of unique data for MONTH is 12 \n",
            "Length of unique data for DAY_OF_WEEK is 7 \n",
            "Length of unique data for HOUR is 24 \n",
            "Length of unique data for UCR_PART is 5 \n",
            "Length of unique data for Lat is 18179 \n",
            "Length of unique data for Long is 18179 \n"
          ]
        }
      ],
      "source": [
        "for column in data.columns : \n",
        "    print('Length of unique data for {0} is {1} '.format(column , len(data[column].unique())))"
      ]
    },
    {
      "cell_type": "markdown",
      "metadata": {
        "id": "_cCeGxAgj9ow"
      },
      "source": [
        "____\n",
        "\n",
        "# Handling Location\n",
        "\n",
        "now for Lat & Long data , it looks it got a huge amount of unique data , so we can never convert it to categorical data in this way , and also we cannot get rid of it , since it's very important imformation for clustering the data . . \n",
        "\n",
        "so we can round the Lat & Long data to two decimal numbers , so it will - geographically - classify the whole city into specific zones , & will reduce the amount of unique data for them\n"
      ]
    },
    {
      "cell_type": "code",
      "execution_count": 13,
      "metadata": {
        "id": "4lu0zdzTj9ow"
      },
      "outputs": [],
      "source": [
        "data['Lat code'] = np.round(data['Lat'],2)\n",
        "data['Long code'] = np.round(data['Long'],2)\n",
        "\n",
        "data.drop(['Lat','Long'],axis=1, inplace=True)\n"
      ]
    },
    {
      "cell_type": "markdown",
      "metadata": {
        "id": "7jUNKL1vj9ow"
      },
      "source": [
        "now lets check the data"
      ]
    },
    {
      "cell_type": "code",
      "execution_count": 14,
      "metadata": {
        "id": "JICTfUMrj9ox",
        "colab": {
          "base_uri": "https://localhost:8080/",
          "height": 320
        },
        "outputId": "2d007c7e-b0ef-4366-ba39-e219f671e370"
      },
      "outputs": [
        {
          "output_type": "execute_result",
          "data": {
            "text/plain": [
              "     OFFENSE_CODE_GROUP   OFFENSE_DESCRIPTION DISTRICT SHOOTING  YEAR  MONTH  \\\n",
              "0               Larceny    LARCENY ALL OTHERS      D14      NaN  2018      9   \n",
              "1             Vandalism             VANDALISM      C11      NaN  2018      8   \n",
              "2                 Towed   TOWED MOTOR VEHICLE       D4      NaN  2018      9   \n",
              "3  Investigate Property  INVESTIGATE PROPERTY       D4      NaN  2018      9   \n",
              "4  Investigate Property  INVESTIGATE PROPERTY       B3      NaN  2018      9   \n",
              "\n",
              "  DAY_OF_WEEK  HOUR    UCR_PART  Lat code  Long code  \n",
              "0      Sunday    13    Part One     42.36     -71.14  \n",
              "1     Tuesday     0    Part Two     42.31     -71.06  \n",
              "2      Monday    19  Part Three     42.35     -71.07  \n",
              "3      Monday    21  Part Three     42.33     -71.08  \n",
              "4      Monday    21  Part Three     42.28     -71.09  "
            ],
            "text/html": [
              "\n",
              "  <div id=\"df-c6e16382-8ddc-4962-9657-42be179e54f2\">\n",
              "    <div class=\"colab-df-container\">\n",
              "      <div>\n",
              "<style scoped>\n",
              "    .dataframe tbody tr th:only-of-type {\n",
              "        vertical-align: middle;\n",
              "    }\n",
              "\n",
              "    .dataframe tbody tr th {\n",
              "        vertical-align: top;\n",
              "    }\n",
              "\n",
              "    .dataframe thead th {\n",
              "        text-align: right;\n",
              "    }\n",
              "</style>\n",
              "<table border=\"1\" class=\"dataframe\">\n",
              "  <thead>\n",
              "    <tr style=\"text-align: right;\">\n",
              "      <th></th>\n",
              "      <th>OFFENSE_CODE_GROUP</th>\n",
              "      <th>OFFENSE_DESCRIPTION</th>\n",
              "      <th>DISTRICT</th>\n",
              "      <th>SHOOTING</th>\n",
              "      <th>YEAR</th>\n",
              "      <th>MONTH</th>\n",
              "      <th>DAY_OF_WEEK</th>\n",
              "      <th>HOUR</th>\n",
              "      <th>UCR_PART</th>\n",
              "      <th>Lat code</th>\n",
              "      <th>Long code</th>\n",
              "    </tr>\n",
              "  </thead>\n",
              "  <tbody>\n",
              "    <tr>\n",
              "      <th>0</th>\n",
              "      <td>Larceny</td>\n",
              "      <td>LARCENY ALL OTHERS</td>\n",
              "      <td>D14</td>\n",
              "      <td>NaN</td>\n",
              "      <td>2018</td>\n",
              "      <td>9</td>\n",
              "      <td>Sunday</td>\n",
              "      <td>13</td>\n",
              "      <td>Part One</td>\n",
              "      <td>42.36</td>\n",
              "      <td>-71.14</td>\n",
              "    </tr>\n",
              "    <tr>\n",
              "      <th>1</th>\n",
              "      <td>Vandalism</td>\n",
              "      <td>VANDALISM</td>\n",
              "      <td>C11</td>\n",
              "      <td>NaN</td>\n",
              "      <td>2018</td>\n",
              "      <td>8</td>\n",
              "      <td>Tuesday</td>\n",
              "      <td>0</td>\n",
              "      <td>Part Two</td>\n",
              "      <td>42.31</td>\n",
              "      <td>-71.06</td>\n",
              "    </tr>\n",
              "    <tr>\n",
              "      <th>2</th>\n",
              "      <td>Towed</td>\n",
              "      <td>TOWED MOTOR VEHICLE</td>\n",
              "      <td>D4</td>\n",
              "      <td>NaN</td>\n",
              "      <td>2018</td>\n",
              "      <td>9</td>\n",
              "      <td>Monday</td>\n",
              "      <td>19</td>\n",
              "      <td>Part Three</td>\n",
              "      <td>42.35</td>\n",
              "      <td>-71.07</td>\n",
              "    </tr>\n",
              "    <tr>\n",
              "      <th>3</th>\n",
              "      <td>Investigate Property</td>\n",
              "      <td>INVESTIGATE PROPERTY</td>\n",
              "      <td>D4</td>\n",
              "      <td>NaN</td>\n",
              "      <td>2018</td>\n",
              "      <td>9</td>\n",
              "      <td>Monday</td>\n",
              "      <td>21</td>\n",
              "      <td>Part Three</td>\n",
              "      <td>42.33</td>\n",
              "      <td>-71.08</td>\n",
              "    </tr>\n",
              "    <tr>\n",
              "      <th>4</th>\n",
              "      <td>Investigate Property</td>\n",
              "      <td>INVESTIGATE PROPERTY</td>\n",
              "      <td>B3</td>\n",
              "      <td>NaN</td>\n",
              "      <td>2018</td>\n",
              "      <td>9</td>\n",
              "      <td>Monday</td>\n",
              "      <td>21</td>\n",
              "      <td>Part Three</td>\n",
              "      <td>42.28</td>\n",
              "      <td>-71.09</td>\n",
              "    </tr>\n",
              "  </tbody>\n",
              "</table>\n",
              "</div>\n",
              "      <button class=\"colab-df-convert\" onclick=\"convertToInteractive('df-c6e16382-8ddc-4962-9657-42be179e54f2')\"\n",
              "              title=\"Convert this dataframe to an interactive table.\"\n",
              "              style=\"display:none;\">\n",
              "        \n",
              "  <svg xmlns=\"http://www.w3.org/2000/svg\" height=\"24px\"viewBox=\"0 0 24 24\"\n",
              "       width=\"24px\">\n",
              "    <path d=\"M0 0h24v24H0V0z\" fill=\"none\"/>\n",
              "    <path d=\"M18.56 5.44l.94 2.06.94-2.06 2.06-.94-2.06-.94-.94-2.06-.94 2.06-2.06.94zm-11 1L8.5 8.5l.94-2.06 2.06-.94-2.06-.94L8.5 2.5l-.94 2.06-2.06.94zm10 10l.94 2.06.94-2.06 2.06-.94-2.06-.94-.94-2.06-.94 2.06-2.06.94z\"/><path d=\"M17.41 7.96l-1.37-1.37c-.4-.4-.92-.59-1.43-.59-.52 0-1.04.2-1.43.59L10.3 9.45l-7.72 7.72c-.78.78-.78 2.05 0 2.83L4 21.41c.39.39.9.59 1.41.59.51 0 1.02-.2 1.41-.59l7.78-7.78 2.81-2.81c.8-.78.8-2.07 0-2.86zM5.41 20L4 18.59l7.72-7.72 1.47 1.35L5.41 20z\"/>\n",
              "  </svg>\n",
              "      </button>\n",
              "      \n",
              "  <style>\n",
              "    .colab-df-container {\n",
              "      display:flex;\n",
              "      flex-wrap:wrap;\n",
              "      gap: 12px;\n",
              "    }\n",
              "\n",
              "    .colab-df-convert {\n",
              "      background-color: #E8F0FE;\n",
              "      border: none;\n",
              "      border-radius: 50%;\n",
              "      cursor: pointer;\n",
              "      display: none;\n",
              "      fill: #1967D2;\n",
              "      height: 32px;\n",
              "      padding: 0 0 0 0;\n",
              "      width: 32px;\n",
              "    }\n",
              "\n",
              "    .colab-df-convert:hover {\n",
              "      background-color: #E2EBFA;\n",
              "      box-shadow: 0px 1px 2px rgba(60, 64, 67, 0.3), 0px 1px 3px 1px rgba(60, 64, 67, 0.15);\n",
              "      fill: #174EA6;\n",
              "    }\n",
              "\n",
              "    [theme=dark] .colab-df-convert {\n",
              "      background-color: #3B4455;\n",
              "      fill: #D2E3FC;\n",
              "    }\n",
              "\n",
              "    [theme=dark] .colab-df-convert:hover {\n",
              "      background-color: #434B5C;\n",
              "      box-shadow: 0px 1px 3px 1px rgba(0, 0, 0, 0.15);\n",
              "      filter: drop-shadow(0px 1px 2px rgba(0, 0, 0, 0.3));\n",
              "      fill: #FFFFFF;\n",
              "    }\n",
              "  </style>\n",
              "\n",
              "      <script>\n",
              "        const buttonEl =\n",
              "          document.querySelector('#df-c6e16382-8ddc-4962-9657-42be179e54f2 button.colab-df-convert');\n",
              "        buttonEl.style.display =\n",
              "          google.colab.kernel.accessAllowed ? 'block' : 'none';\n",
              "\n",
              "        async function convertToInteractive(key) {\n",
              "          const element = document.querySelector('#df-c6e16382-8ddc-4962-9657-42be179e54f2');\n",
              "          const dataTable =\n",
              "            await google.colab.kernel.invokeFunction('convertToInteractive',\n",
              "                                                     [key], {});\n",
              "          if (!dataTable) return;\n",
              "\n",
              "          const docLinkHtml = 'Like what you see? Visit the ' +\n",
              "            '<a target=\"_blank\" href=https://colab.research.google.com/notebooks/data_table.ipynb>data table notebook</a>'\n",
              "            + ' to learn more about interactive tables.';\n",
              "          element.innerHTML = '';\n",
              "          dataTable['output_type'] = 'display_data';\n",
              "          await google.colab.output.renderOutput(dataTable, element);\n",
              "          const docLink = document.createElement('div');\n",
              "          docLink.innerHTML = docLinkHtml;\n",
              "          element.appendChild(docLink);\n",
              "        }\n",
              "      </script>\n",
              "    </div>\n",
              "  </div>\n",
              "  "
            ]
          },
          "metadata": {},
          "execution_count": 14
        }
      ],
      "source": [
        "data.head()"
      ]
    },
    {
      "cell_type": "markdown",
      "metadata": {
        "id": "FAdYdjkdj9ox"
      },
      "source": [
        "now it looks more simple & smart , lets see the amount of unique data"
      ]
    },
    {
      "cell_type": "code",
      "execution_count": 15,
      "metadata": {
        "id": "bFpfjSL5j9ox",
        "colab": {
          "base_uri": "https://localhost:8080/"
        },
        "outputId": "b7105a10-faac-4312-9d6a-28e07b191a37"
      },
      "outputs": [
        {
          "output_type": "stream",
          "name": "stdout",
          "text": [
            "Length of unique data for OFFENSE_CODE_GROUP is 67 \n",
            "Length of unique data for OFFENSE_DESCRIPTION is 244 \n",
            "Length of unique data for DISTRICT is 13 \n",
            "Length of unique data for SHOOTING is 2 \n",
            "Length of unique data for YEAR is 4 \n",
            "Length of unique data for MONTH is 12 \n",
            "Length of unique data for DAY_OF_WEEK is 7 \n",
            "Length of unique data for HOUR is 24 \n",
            "Length of unique data for UCR_PART is 5 \n",
            "Length of unique data for Lat code is 20 \n",
            "Length of unique data for Long code is 22 \n"
          ]
        }
      ],
      "source": [
        "for column in data.columns : \n",
        "    print('Length of unique data for {0} is {1} '.format(column , len(data[column].unique())))"
      ]
    },
    {
      "cell_type": "markdown",
      "metadata": {
        "id": "6EbbVKcDj9ox"
      },
      "source": [
        "____\n",
        "cool , 20 unique Lat & 22 unique Long , which will refer to 440 zones in Boston city , which is very helpful in making clusters \n",
        "\n",
        "\n",
        "___\n",
        "\n",
        "# Handling Nulls\n",
        "\n",
        "now we have to manage all missing data in other features , let's see it now \n"
      ]
    },
    {
      "cell_type": "code",
      "execution_count": 16,
      "metadata": {
        "id": "IUVnFOyOj9ox",
        "colab": {
          "base_uri": "https://localhost:8080/"
        },
        "outputId": "facd1dc5-ae2a-4285-963e-6b24c025f293"
      },
      "outputs": [
        {
          "output_type": "stream",
          "name": "stdout",
          "text": [
            "<class 'pandas.core.frame.DataFrame'>\n",
            "RangeIndex: 319073 entries, 0 to 319072\n",
            "Data columns (total 11 columns):\n",
            " #   Column               Non-Null Count   Dtype  \n",
            "---  ------               --------------   -----  \n",
            " 0   OFFENSE_CODE_GROUP   319073 non-null  object \n",
            " 1   OFFENSE_DESCRIPTION  319073 non-null  object \n",
            " 2   DISTRICT             317308 non-null  object \n",
            " 3   SHOOTING             1019 non-null    object \n",
            " 4   YEAR                 319073 non-null  int64  \n",
            " 5   MONTH                319073 non-null  int64  \n",
            " 6   DAY_OF_WEEK          319073 non-null  object \n",
            " 7   HOUR                 319073 non-null  int64  \n",
            " 8   UCR_PART             318983 non-null  object \n",
            " 9   Lat code             299074 non-null  float64\n",
            " 10  Long code            299074 non-null  float64\n",
            "dtypes: float64(2), int64(3), object(6)\n",
            "memory usage: 26.8+ MB\n"
          ]
        }
      ],
      "source": [
        "data.info()"
      ]
    },
    {
      "cell_type": "markdown",
      "metadata": {
        "id": "sAObKTd0j9ox"
      },
      "source": [
        "____\n",
        "\n",
        "shooting feature got the biggest amount of Nulls , lets see what it contains "
      ]
    },
    {
      "cell_type": "code",
      "execution_count": 17,
      "metadata": {
        "id": "HqaoA2b1j9ox",
        "colab": {
          "base_uri": "https://localhost:8080/"
        },
        "outputId": "97fbd3c7-6584-4d7a-8dbc-4c5413b35880"
      },
      "outputs": [
        {
          "output_type": "execute_result",
          "data": {
            "text/plain": [
              "array([nan, 'Y'], dtype=object)"
            ]
          },
          "metadata": {},
          "execution_count": 17
        }
      ],
      "source": [
        "data['SHOOTING'].unique()"
      ]
    },
    {
      "cell_type": "markdown",
      "metadata": {
        "id": "I89bNemnj9ox"
      },
      "source": [
        "\n",
        "ok , it either Y for yes there was shooting in the crime , or nan for the crime contain not shooting , ok , let's make a new feature , which will got 1 for shooting & 0 for no shooting"
      ]
    },
    {
      "cell_type": "code",
      "execution_count": 18,
      "metadata": {
        "id": "Vyc-6yb8j9ox"
      },
      "outputs": [],
      "source": [
        "data['shooting code'] = np.where(data['SHOOTING']=='Y' , 1 , 0)"
      ]
    },
    {
      "cell_type": "markdown",
      "metadata": {
        "id": "zFWV4mooj9ox"
      },
      "source": [
        "also we can know the percentage of shooting among all accidents happend here "
      ]
    },
    {
      "cell_type": "code",
      "execution_count": 19,
      "metadata": {
        "id": "jzqvUTDIj9oy",
        "colab": {
          "base_uri": "https://localhost:8080/"
        },
        "outputId": "21d7c0ed-e81e-4b26-854f-cc73ee46e016"
      },
      "outputs": [
        {
          "output_type": "stream",
          "name": "stdout",
          "text": [
            "Shooting Percentage  is 0.32 %\n"
          ]
        }
      ],
      "source": [
        "print( 'Shooting Percentage  is {} %'.format(round((data['shooting code'].sum() / data.shape[0]) * 100,2)))\n",
        "\n"
      ]
    },
    {
      "cell_type": "markdown",
      "metadata": {
        "id": "QZcjOQDGj9oy"
      },
      "source": [
        "ok , a very tiny percentage  , so we'll keep the shooting code feature & drop the original shooting feature , also let's check other features nulls "
      ]
    },
    {
      "cell_type": "code",
      "execution_count": 20,
      "metadata": {
        "id": "0_YnF2Fuj9oy",
        "colab": {
          "base_uri": "https://localhost:8080/"
        },
        "outputId": "d297e242-1907-440f-ad15-3f12d86f0ba6"
      },
      "outputs": [
        {
          "output_type": "stream",
          "name": "stdout",
          "text": [
            "<class 'pandas.core.frame.DataFrame'>\n",
            "RangeIndex: 319073 entries, 0 to 319072\n",
            "Data columns (total 11 columns):\n",
            " #   Column               Non-Null Count   Dtype  \n",
            "---  ------               --------------   -----  \n",
            " 0   OFFENSE_CODE_GROUP   319073 non-null  object \n",
            " 1   OFFENSE_DESCRIPTION  319073 non-null  object \n",
            " 2   DISTRICT             317308 non-null  object \n",
            " 3   YEAR                 319073 non-null  int64  \n",
            " 4   MONTH                319073 non-null  int64  \n",
            " 5   DAY_OF_WEEK          319073 non-null  object \n",
            " 6   HOUR                 319073 non-null  int64  \n",
            " 7   UCR_PART             318983 non-null  object \n",
            " 8   Lat code             299074 non-null  float64\n",
            " 9   Long code            299074 non-null  float64\n",
            " 10  shooting code        319073 non-null  int64  \n",
            "dtypes: float64(2), int64(4), object(5)\n",
            "memory usage: 26.8+ MB\n"
          ]
        }
      ],
      "source": [
        "data.drop(['SHOOTING'],axis=1, inplace=True)\n",
        "\n",
        "\n",
        "data.info()"
      ]
    },
    {
      "cell_type": "markdown",
      "metadata": {
        "id": "Pt9OlVicj9oy"
      },
      "source": [
        "___\n",
        "\n",
        "more than 1700 nulls in the district feature , lets check the unique values"
      ]
    },
    {
      "cell_type": "code",
      "execution_count": 21,
      "metadata": {
        "id": "0yigdVMxj9oy",
        "colab": {
          "base_uri": "https://localhost:8080/"
        },
        "outputId": "4cbbb4a4-d54a-4445-994f-dd0c1344df2b"
      },
      "outputs": [
        {
          "output_type": "execute_result",
          "data": {
            "text/plain": [
              "array(['D14', 'C11', 'D4', 'B3', 'B2', 'C6', nan, 'A1', 'E5', 'A7', 'E13',\n",
              "       'E18', 'A15'], dtype=object)"
            ]
          },
          "metadata": {},
          "execution_count": 21
        }
      ],
      "source": [
        "data['DISTRICT'].unique()"
      ]
    },
    {
      "cell_type": "markdown",
      "metadata": {
        "id": "oEzkzDVRj9oy"
      },
      "source": [
        "since we cannot replace nulls with mean or median for categorical values , so we'll just put the word none instead of nulls , using fillna tool"
      ]
    },
    {
      "cell_type": "code",
      "execution_count": 22,
      "metadata": {
        "id": "L5gGN-QFj9oy"
      },
      "outputs": [],
      "source": [
        "data.DISTRICT.fillna('none', inplace=True)"
      ]
    },
    {
      "cell_type": "markdown",
      "metadata": {
        "id": "lD01iD_Kj9oy"
      },
      "source": [
        "let's check it again "
      ]
    },
    {
      "cell_type": "code",
      "execution_count": 23,
      "metadata": {
        "id": "dEPZf4WIj9oy",
        "colab": {
          "base_uri": "https://localhost:8080/"
        },
        "outputId": "645cfa2a-4172-4942-f74c-3ce2b69cd05f"
      },
      "outputs": [
        {
          "output_type": "execute_result",
          "data": {
            "text/plain": [
              "array(['D14', 'C11', 'D4', 'B3', 'B2', 'C6', 'none', 'A1', 'E5', 'A7',\n",
              "       'E13', 'E18', 'A15'], dtype=object)"
            ]
          },
          "metadata": {},
          "execution_count": 23
        }
      ],
      "source": [
        "data['DISTRICT'].unique()"
      ]
    },
    {
      "cell_type": "markdown",
      "metadata": {
        "id": "Vb_-GVIKj9oy"
      },
      "source": [
        "cool , no nulls now , lets move to UCR Part\n"
      ]
    },
    {
      "cell_type": "code",
      "execution_count": 24,
      "metadata": {
        "id": "yPr1ER6Zj9o2",
        "colab": {
          "base_uri": "https://localhost:8080/"
        },
        "outputId": "cabd0b7e-11f9-46df-bb2e-c850f8a6d323"
      },
      "outputs": [
        {
          "output_type": "execute_result",
          "data": {
            "text/plain": [
              "array(['Part One', 'Part Two', 'Part Three', 'Other', nan], dtype=object)"
            ]
          },
          "metadata": {},
          "execution_count": 24
        }
      ],
      "source": [
        "data['UCR_PART'].unique()"
      ]
    },
    {
      "cell_type": "markdown",
      "metadata": {
        "id": "x-PwXFtFj9o2"
      },
      "source": [
        "again , we'll have to put any word since we cannot calculate mean , so lets use none"
      ]
    },
    {
      "cell_type": "code",
      "execution_count": 25,
      "metadata": {
        "id": "OWngjY94j9o2"
      },
      "outputs": [],
      "source": [
        "data.UCR_PART.fillna('none', inplace=True)"
      ]
    },
    {
      "cell_type": "markdown",
      "metadata": {
        "id": "vrFyWmLdj9o2"
      },
      "source": [
        "check it now"
      ]
    },
    {
      "cell_type": "code",
      "execution_count": 26,
      "metadata": {
        "id": "ZVFqNtE1j9o2",
        "colab": {
          "base_uri": "https://localhost:8080/"
        },
        "outputId": "2b102aaa-e679-494f-ed71-47af8ec52a50"
      },
      "outputs": [
        {
          "output_type": "execute_result",
          "data": {
            "text/plain": [
              "array(['Part One', 'Part Two', 'Part Three', 'Other', 'none'],\n",
              "      dtype=object)"
            ]
          },
          "metadata": {},
          "execution_count": 26
        }
      ],
      "source": [
        "data['UCR_PART'].unique()"
      ]
    },
    {
      "cell_type": "markdown",
      "metadata": {
        "id": "ZbYEV7S0j9o2"
      },
      "source": [
        "____\n",
        "\n",
        "now for Lat & Long , first lets get the mean values for them & round it "
      ]
    },
    {
      "cell_type": "code",
      "execution_count": 27,
      "metadata": {
        "id": "QPLWmsM-j9o2",
        "colab": {
          "base_uri": "https://localhost:8080/"
        },
        "outputId": "da52d7f6-6190-4b39-bb46-755d060c3a74"
      },
      "outputs": [
        {
          "output_type": "stream",
          "name": "stdout",
          "text": [
            "42.21\n",
            "-70.91\n"
          ]
        }
      ],
      "source": [
        "lat_mean = data['Lat code'].sum() / 299074\n",
        "long_mean =  data['Long code'].sum() / 299074\n",
        "print(round(lat_mean,2))\n",
        "print(round(long_mean,2))"
      ]
    },
    {
      "cell_type": "markdown",
      "metadata": {
        "id": "pf5YR0h4j9o2"
      },
      "source": [
        "so we can fill null values in Lat & Long with that mean "
      ]
    },
    {
      "cell_type": "code",
      "execution_count": 28,
      "metadata": {
        "id": "lmQE-hF3j9o3"
      },
      "outputs": [],
      "source": [
        "data['Lat code'].fillna(round(lat_mean,2), inplace=True)\n",
        "data['Long code'].fillna(round(long_mean,2), inplace=True)"
      ]
    },
    {
      "cell_type": "markdown",
      "metadata": {
        "id": "14JJ-9NLj9o3"
      },
      "source": [
        "now we filled all nulls & it's ready for categorical values , lets have last check it data "
      ]
    },
    {
      "cell_type": "code",
      "execution_count": 29,
      "metadata": {
        "id": "NTW_L6DZj9o3",
        "colab": {
          "base_uri": "https://localhost:8080/"
        },
        "outputId": "973c8ee6-4ff6-4499-968a-4023fffd77b9"
      },
      "outputs": [
        {
          "output_type": "stream",
          "name": "stdout",
          "text": [
            "<class 'pandas.core.frame.DataFrame'>\n",
            "RangeIndex: 319073 entries, 0 to 319072\n",
            "Data columns (total 11 columns):\n",
            " #   Column               Non-Null Count   Dtype  \n",
            "---  ------               --------------   -----  \n",
            " 0   OFFENSE_CODE_GROUP   319073 non-null  object \n",
            " 1   OFFENSE_DESCRIPTION  319073 non-null  object \n",
            " 2   DISTRICT             319073 non-null  object \n",
            " 3   YEAR                 319073 non-null  int64  \n",
            " 4   MONTH                319073 non-null  int64  \n",
            " 5   DAY_OF_WEEK          319073 non-null  object \n",
            " 6   HOUR                 319073 non-null  int64  \n",
            " 7   UCR_PART             319073 non-null  object \n",
            " 8   Lat code             319073 non-null  float64\n",
            " 9   Long code            319073 non-null  float64\n",
            " 10  shooting code        319073 non-null  int64  \n",
            "dtypes: float64(2), int64(4), object(5)\n",
            "memory usage: 26.8+ MB\n"
          ]
        }
      ],
      "source": [
        "data.info()"
      ]
    },
    {
      "cell_type": "markdown",
      "metadata": {
        "id": "VgVGm_Bmj9o3"
      },
      "source": [
        "cool , no nulls there , lets have a look to the features"
      ]
    },
    {
      "cell_type": "code",
      "execution_count": 30,
      "metadata": {
        "scrolled": true,
        "id": "BdaZ6J8bj9o3",
        "colab": {
          "base_uri": "https://localhost:8080/",
          "height": 337
        },
        "outputId": "82c436b4-b6d2-4b11-cd02-0352aa8dc225"
      },
      "outputs": [
        {
          "output_type": "execute_result",
          "data": {
            "text/plain": [
              "     OFFENSE_CODE_GROUP   OFFENSE_DESCRIPTION DISTRICT  YEAR  MONTH  \\\n",
              "0               Larceny    LARCENY ALL OTHERS      D14  2018      9   \n",
              "1             Vandalism             VANDALISM      C11  2018      8   \n",
              "2                 Towed   TOWED MOTOR VEHICLE       D4  2018      9   \n",
              "3  Investigate Property  INVESTIGATE PROPERTY       D4  2018      9   \n",
              "4  Investigate Property  INVESTIGATE PROPERTY       B3  2018      9   \n",
              "\n",
              "  DAY_OF_WEEK  HOUR    UCR_PART  Lat code  Long code  shooting code  \n",
              "0      Sunday    13    Part One     42.36     -71.14              0  \n",
              "1     Tuesday     0    Part Two     42.31     -71.06              0  \n",
              "2      Monday    19  Part Three     42.35     -71.07              0  \n",
              "3      Monday    21  Part Three     42.33     -71.08              0  \n",
              "4      Monday    21  Part Three     42.28     -71.09              0  "
            ],
            "text/html": [
              "\n",
              "  <div id=\"df-1d9d6555-b6f7-4bc4-92de-3abd62c5e3c1\">\n",
              "    <div class=\"colab-df-container\">\n",
              "      <div>\n",
              "<style scoped>\n",
              "    .dataframe tbody tr th:only-of-type {\n",
              "        vertical-align: middle;\n",
              "    }\n",
              "\n",
              "    .dataframe tbody tr th {\n",
              "        vertical-align: top;\n",
              "    }\n",
              "\n",
              "    .dataframe thead th {\n",
              "        text-align: right;\n",
              "    }\n",
              "</style>\n",
              "<table border=\"1\" class=\"dataframe\">\n",
              "  <thead>\n",
              "    <tr style=\"text-align: right;\">\n",
              "      <th></th>\n",
              "      <th>OFFENSE_CODE_GROUP</th>\n",
              "      <th>OFFENSE_DESCRIPTION</th>\n",
              "      <th>DISTRICT</th>\n",
              "      <th>YEAR</th>\n",
              "      <th>MONTH</th>\n",
              "      <th>DAY_OF_WEEK</th>\n",
              "      <th>HOUR</th>\n",
              "      <th>UCR_PART</th>\n",
              "      <th>Lat code</th>\n",
              "      <th>Long code</th>\n",
              "      <th>shooting code</th>\n",
              "    </tr>\n",
              "  </thead>\n",
              "  <tbody>\n",
              "    <tr>\n",
              "      <th>0</th>\n",
              "      <td>Larceny</td>\n",
              "      <td>LARCENY ALL OTHERS</td>\n",
              "      <td>D14</td>\n",
              "      <td>2018</td>\n",
              "      <td>9</td>\n",
              "      <td>Sunday</td>\n",
              "      <td>13</td>\n",
              "      <td>Part One</td>\n",
              "      <td>42.36</td>\n",
              "      <td>-71.14</td>\n",
              "      <td>0</td>\n",
              "    </tr>\n",
              "    <tr>\n",
              "      <th>1</th>\n",
              "      <td>Vandalism</td>\n",
              "      <td>VANDALISM</td>\n",
              "      <td>C11</td>\n",
              "      <td>2018</td>\n",
              "      <td>8</td>\n",
              "      <td>Tuesday</td>\n",
              "      <td>0</td>\n",
              "      <td>Part Two</td>\n",
              "      <td>42.31</td>\n",
              "      <td>-71.06</td>\n",
              "      <td>0</td>\n",
              "    </tr>\n",
              "    <tr>\n",
              "      <th>2</th>\n",
              "      <td>Towed</td>\n",
              "      <td>TOWED MOTOR VEHICLE</td>\n",
              "      <td>D4</td>\n",
              "      <td>2018</td>\n",
              "      <td>9</td>\n",
              "      <td>Monday</td>\n",
              "      <td>19</td>\n",
              "      <td>Part Three</td>\n",
              "      <td>42.35</td>\n",
              "      <td>-71.07</td>\n",
              "      <td>0</td>\n",
              "    </tr>\n",
              "    <tr>\n",
              "      <th>3</th>\n",
              "      <td>Investigate Property</td>\n",
              "      <td>INVESTIGATE PROPERTY</td>\n",
              "      <td>D4</td>\n",
              "      <td>2018</td>\n",
              "      <td>9</td>\n",
              "      <td>Monday</td>\n",
              "      <td>21</td>\n",
              "      <td>Part Three</td>\n",
              "      <td>42.33</td>\n",
              "      <td>-71.08</td>\n",
              "      <td>0</td>\n",
              "    </tr>\n",
              "    <tr>\n",
              "      <th>4</th>\n",
              "      <td>Investigate Property</td>\n",
              "      <td>INVESTIGATE PROPERTY</td>\n",
              "      <td>B3</td>\n",
              "      <td>2018</td>\n",
              "      <td>9</td>\n",
              "      <td>Monday</td>\n",
              "      <td>21</td>\n",
              "      <td>Part Three</td>\n",
              "      <td>42.28</td>\n",
              "      <td>-71.09</td>\n",
              "      <td>0</td>\n",
              "    </tr>\n",
              "  </tbody>\n",
              "</table>\n",
              "</div>\n",
              "      <button class=\"colab-df-convert\" onclick=\"convertToInteractive('df-1d9d6555-b6f7-4bc4-92de-3abd62c5e3c1')\"\n",
              "              title=\"Convert this dataframe to an interactive table.\"\n",
              "              style=\"display:none;\">\n",
              "        \n",
              "  <svg xmlns=\"http://www.w3.org/2000/svg\" height=\"24px\"viewBox=\"0 0 24 24\"\n",
              "       width=\"24px\">\n",
              "    <path d=\"M0 0h24v24H0V0z\" fill=\"none\"/>\n",
              "    <path d=\"M18.56 5.44l.94 2.06.94-2.06 2.06-.94-2.06-.94-.94-2.06-.94 2.06-2.06.94zm-11 1L8.5 8.5l.94-2.06 2.06-.94-2.06-.94L8.5 2.5l-.94 2.06-2.06.94zm10 10l.94 2.06.94-2.06 2.06-.94-2.06-.94-.94-2.06-.94 2.06-2.06.94z\"/><path d=\"M17.41 7.96l-1.37-1.37c-.4-.4-.92-.59-1.43-.59-.52 0-1.04.2-1.43.59L10.3 9.45l-7.72 7.72c-.78.78-.78 2.05 0 2.83L4 21.41c.39.39.9.59 1.41.59.51 0 1.02-.2 1.41-.59l7.78-7.78 2.81-2.81c.8-.78.8-2.07 0-2.86zM5.41 20L4 18.59l7.72-7.72 1.47 1.35L5.41 20z\"/>\n",
              "  </svg>\n",
              "      </button>\n",
              "      \n",
              "  <style>\n",
              "    .colab-df-container {\n",
              "      display:flex;\n",
              "      flex-wrap:wrap;\n",
              "      gap: 12px;\n",
              "    }\n",
              "\n",
              "    .colab-df-convert {\n",
              "      background-color: #E8F0FE;\n",
              "      border: none;\n",
              "      border-radius: 50%;\n",
              "      cursor: pointer;\n",
              "      display: none;\n",
              "      fill: #1967D2;\n",
              "      height: 32px;\n",
              "      padding: 0 0 0 0;\n",
              "      width: 32px;\n",
              "    }\n",
              "\n",
              "    .colab-df-convert:hover {\n",
              "      background-color: #E2EBFA;\n",
              "      box-shadow: 0px 1px 2px rgba(60, 64, 67, 0.3), 0px 1px 3px 1px rgba(60, 64, 67, 0.15);\n",
              "      fill: #174EA6;\n",
              "    }\n",
              "\n",
              "    [theme=dark] .colab-df-convert {\n",
              "      background-color: #3B4455;\n",
              "      fill: #D2E3FC;\n",
              "    }\n",
              "\n",
              "    [theme=dark] .colab-df-convert:hover {\n",
              "      background-color: #434B5C;\n",
              "      box-shadow: 0px 1px 3px 1px rgba(0, 0, 0, 0.15);\n",
              "      filter: drop-shadow(0px 1px 2px rgba(0, 0, 0, 0.3));\n",
              "      fill: #FFFFFF;\n",
              "    }\n",
              "  </style>\n",
              "\n",
              "      <script>\n",
              "        const buttonEl =\n",
              "          document.querySelector('#df-1d9d6555-b6f7-4bc4-92de-3abd62c5e3c1 button.colab-df-convert');\n",
              "        buttonEl.style.display =\n",
              "          google.colab.kernel.accessAllowed ? 'block' : 'none';\n",
              "\n",
              "        async function convertToInteractive(key) {\n",
              "          const element = document.querySelector('#df-1d9d6555-b6f7-4bc4-92de-3abd62c5e3c1');\n",
              "          const dataTable =\n",
              "            await google.colab.kernel.invokeFunction('convertToInteractive',\n",
              "                                                     [key], {});\n",
              "          if (!dataTable) return;\n",
              "\n",
              "          const docLinkHtml = 'Like what you see? Visit the ' +\n",
              "            '<a target=\"_blank\" href=https://colab.research.google.com/notebooks/data_table.ipynb>data table notebook</a>'\n",
              "            + ' to learn more about interactive tables.';\n",
              "          element.innerHTML = '';\n",
              "          dataTable['output_type'] = 'display_data';\n",
              "          await google.colab.output.renderOutput(dataTable, element);\n",
              "          const docLink = document.createElement('div');\n",
              "          docLink.innerHTML = docLinkHtml;\n",
              "          element.appendChild(docLink);\n",
              "        }\n",
              "      </script>\n",
              "    </div>\n",
              "  </div>\n",
              "  "
            ]
          },
          "metadata": {},
          "execution_count": 30
        }
      ],
      "source": [
        "data.head()"
      ]
    },
    {
      "cell_type": "markdown",
      "metadata": {
        "id": "6XaWauHbj9o3"
      },
      "source": [
        "____\n",
        "\n",
        "# Get Dummies\n",
        "\n",
        "ok , before we run the clustering model , we've to convert all categorical values into numerical dummies . \n",
        "\n",
        "we have here five categorical features which are : \n",
        "\n",
        "Offense Groud\n",
        "\n",
        "Offense Description\n",
        "\n",
        "District\n",
        "\n",
        "Day of week\n",
        "\n",
        "UCR Part\n",
        "\n",
        "\n",
        "\n",
        "so we'll use LabelEncoder model from Sklearn to do it quickly , then drop the original feature . \n",
        "\n",
        "\n",
        "lets start with Offense Group . .\n",
        "\n",
        "\n"
      ]
    },
    {
      "cell_type": "code",
      "execution_count": 31,
      "metadata": {
        "id": "3F3eVbtoj9o3"
      },
      "outputs": [],
      "source": [
        "enc  = LabelEncoder()\n",
        "enc.fit(data['OFFENSE_CODE_GROUP'])\n",
        "data['Offense Code'] = enc.transform(data['OFFENSE_CODE_GROUP'])\n",
        "data.drop(['OFFENSE_CODE_GROUP'],axis=1, inplace=True)"
      ]
    },
    {
      "cell_type": "markdown",
      "metadata": {
        "id": "nKWagKj1j9o3"
      },
      "source": [
        "ok done , let's have a look"
      ]
    },
    {
      "cell_type": "code",
      "execution_count": 32,
      "metadata": {
        "id": "IbElm_ssj9o4",
        "colab": {
          "base_uri": "https://localhost:8080/",
          "height": 320
        },
        "outputId": "c0b0f027-9038-4bee-bb9b-a14a81c6c814"
      },
      "outputs": [
        {
          "output_type": "execute_result",
          "data": {
            "text/plain": [
              "    OFFENSE_DESCRIPTION DISTRICT  YEAR  MONTH DAY_OF_WEEK  HOUR    UCR_PART  \\\n",
              "0    LARCENY ALL OTHERS      D14  2018      9      Sunday    13    Part One   \n",
              "1             VANDALISM      C11  2018      8     Tuesday     0    Part Two   \n",
              "2   TOWED MOTOR VEHICLE       D4  2018      9      Monday    19  Part Three   \n",
              "3  INVESTIGATE PROPERTY       D4  2018      9      Monday    21  Part Three   \n",
              "4  INVESTIGATE PROPERTY       B3  2018      9      Monday    21  Part Three   \n",
              "\n",
              "   Lat code  Long code  shooting code  Offense Code  \n",
              "0     42.36     -71.14              0            34  \n",
              "1     42.31     -71.06              0            63  \n",
              "2     42.35     -71.07              0            62  \n",
              "3     42.33     -71.08              0            32  \n",
              "4     42.28     -71.09              0            32  "
            ],
            "text/html": [
              "\n",
              "  <div id=\"df-cdd81c51-b87f-444d-99a9-5b972f8b8e11\">\n",
              "    <div class=\"colab-df-container\">\n",
              "      <div>\n",
              "<style scoped>\n",
              "    .dataframe tbody tr th:only-of-type {\n",
              "        vertical-align: middle;\n",
              "    }\n",
              "\n",
              "    .dataframe tbody tr th {\n",
              "        vertical-align: top;\n",
              "    }\n",
              "\n",
              "    .dataframe thead th {\n",
              "        text-align: right;\n",
              "    }\n",
              "</style>\n",
              "<table border=\"1\" class=\"dataframe\">\n",
              "  <thead>\n",
              "    <tr style=\"text-align: right;\">\n",
              "      <th></th>\n",
              "      <th>OFFENSE_DESCRIPTION</th>\n",
              "      <th>DISTRICT</th>\n",
              "      <th>YEAR</th>\n",
              "      <th>MONTH</th>\n",
              "      <th>DAY_OF_WEEK</th>\n",
              "      <th>HOUR</th>\n",
              "      <th>UCR_PART</th>\n",
              "      <th>Lat code</th>\n",
              "      <th>Long code</th>\n",
              "      <th>shooting code</th>\n",
              "      <th>Offense Code</th>\n",
              "    </tr>\n",
              "  </thead>\n",
              "  <tbody>\n",
              "    <tr>\n",
              "      <th>0</th>\n",
              "      <td>LARCENY ALL OTHERS</td>\n",
              "      <td>D14</td>\n",
              "      <td>2018</td>\n",
              "      <td>9</td>\n",
              "      <td>Sunday</td>\n",
              "      <td>13</td>\n",
              "      <td>Part One</td>\n",
              "      <td>42.36</td>\n",
              "      <td>-71.14</td>\n",
              "      <td>0</td>\n",
              "      <td>34</td>\n",
              "    </tr>\n",
              "    <tr>\n",
              "      <th>1</th>\n",
              "      <td>VANDALISM</td>\n",
              "      <td>C11</td>\n",
              "      <td>2018</td>\n",
              "      <td>8</td>\n",
              "      <td>Tuesday</td>\n",
              "      <td>0</td>\n",
              "      <td>Part Two</td>\n",
              "      <td>42.31</td>\n",
              "      <td>-71.06</td>\n",
              "      <td>0</td>\n",
              "      <td>63</td>\n",
              "    </tr>\n",
              "    <tr>\n",
              "      <th>2</th>\n",
              "      <td>TOWED MOTOR VEHICLE</td>\n",
              "      <td>D4</td>\n",
              "      <td>2018</td>\n",
              "      <td>9</td>\n",
              "      <td>Monday</td>\n",
              "      <td>19</td>\n",
              "      <td>Part Three</td>\n",
              "      <td>42.35</td>\n",
              "      <td>-71.07</td>\n",
              "      <td>0</td>\n",
              "      <td>62</td>\n",
              "    </tr>\n",
              "    <tr>\n",
              "      <th>3</th>\n",
              "      <td>INVESTIGATE PROPERTY</td>\n",
              "      <td>D4</td>\n",
              "      <td>2018</td>\n",
              "      <td>9</td>\n",
              "      <td>Monday</td>\n",
              "      <td>21</td>\n",
              "      <td>Part Three</td>\n",
              "      <td>42.33</td>\n",
              "      <td>-71.08</td>\n",
              "      <td>0</td>\n",
              "      <td>32</td>\n",
              "    </tr>\n",
              "    <tr>\n",
              "      <th>4</th>\n",
              "      <td>INVESTIGATE PROPERTY</td>\n",
              "      <td>B3</td>\n",
              "      <td>2018</td>\n",
              "      <td>9</td>\n",
              "      <td>Monday</td>\n",
              "      <td>21</td>\n",
              "      <td>Part Three</td>\n",
              "      <td>42.28</td>\n",
              "      <td>-71.09</td>\n",
              "      <td>0</td>\n",
              "      <td>32</td>\n",
              "    </tr>\n",
              "  </tbody>\n",
              "</table>\n",
              "</div>\n",
              "      <button class=\"colab-df-convert\" onclick=\"convertToInteractive('df-cdd81c51-b87f-444d-99a9-5b972f8b8e11')\"\n",
              "              title=\"Convert this dataframe to an interactive table.\"\n",
              "              style=\"display:none;\">\n",
              "        \n",
              "  <svg xmlns=\"http://www.w3.org/2000/svg\" height=\"24px\"viewBox=\"0 0 24 24\"\n",
              "       width=\"24px\">\n",
              "    <path d=\"M0 0h24v24H0V0z\" fill=\"none\"/>\n",
              "    <path d=\"M18.56 5.44l.94 2.06.94-2.06 2.06-.94-2.06-.94-.94-2.06-.94 2.06-2.06.94zm-11 1L8.5 8.5l.94-2.06 2.06-.94-2.06-.94L8.5 2.5l-.94 2.06-2.06.94zm10 10l.94 2.06.94-2.06 2.06-.94-2.06-.94-.94-2.06-.94 2.06-2.06.94z\"/><path d=\"M17.41 7.96l-1.37-1.37c-.4-.4-.92-.59-1.43-.59-.52 0-1.04.2-1.43.59L10.3 9.45l-7.72 7.72c-.78.78-.78 2.05 0 2.83L4 21.41c.39.39.9.59 1.41.59.51 0 1.02-.2 1.41-.59l7.78-7.78 2.81-2.81c.8-.78.8-2.07 0-2.86zM5.41 20L4 18.59l7.72-7.72 1.47 1.35L5.41 20z\"/>\n",
              "  </svg>\n",
              "      </button>\n",
              "      \n",
              "  <style>\n",
              "    .colab-df-container {\n",
              "      display:flex;\n",
              "      flex-wrap:wrap;\n",
              "      gap: 12px;\n",
              "    }\n",
              "\n",
              "    .colab-df-convert {\n",
              "      background-color: #E8F0FE;\n",
              "      border: none;\n",
              "      border-radius: 50%;\n",
              "      cursor: pointer;\n",
              "      display: none;\n",
              "      fill: #1967D2;\n",
              "      height: 32px;\n",
              "      padding: 0 0 0 0;\n",
              "      width: 32px;\n",
              "    }\n",
              "\n",
              "    .colab-df-convert:hover {\n",
              "      background-color: #E2EBFA;\n",
              "      box-shadow: 0px 1px 2px rgba(60, 64, 67, 0.3), 0px 1px 3px 1px rgba(60, 64, 67, 0.15);\n",
              "      fill: #174EA6;\n",
              "    }\n",
              "\n",
              "    [theme=dark] .colab-df-convert {\n",
              "      background-color: #3B4455;\n",
              "      fill: #D2E3FC;\n",
              "    }\n",
              "\n",
              "    [theme=dark] .colab-df-convert:hover {\n",
              "      background-color: #434B5C;\n",
              "      box-shadow: 0px 1px 3px 1px rgba(0, 0, 0, 0.15);\n",
              "      filter: drop-shadow(0px 1px 2px rgba(0, 0, 0, 0.3));\n",
              "      fill: #FFFFFF;\n",
              "    }\n",
              "  </style>\n",
              "\n",
              "      <script>\n",
              "        const buttonEl =\n",
              "          document.querySelector('#df-cdd81c51-b87f-444d-99a9-5b972f8b8e11 button.colab-df-convert');\n",
              "        buttonEl.style.display =\n",
              "          google.colab.kernel.accessAllowed ? 'block' : 'none';\n",
              "\n",
              "        async function convertToInteractive(key) {\n",
              "          const element = document.querySelector('#df-cdd81c51-b87f-444d-99a9-5b972f8b8e11');\n",
              "          const dataTable =\n",
              "            await google.colab.kernel.invokeFunction('convertToInteractive',\n",
              "                                                     [key], {});\n",
              "          if (!dataTable) return;\n",
              "\n",
              "          const docLinkHtml = 'Like what you see? Visit the ' +\n",
              "            '<a target=\"_blank\" href=https://colab.research.google.com/notebooks/data_table.ipynb>data table notebook</a>'\n",
              "            + ' to learn more about interactive tables.';\n",
              "          element.innerHTML = '';\n",
              "          dataTable['output_type'] = 'display_data';\n",
              "          await google.colab.output.renderOutput(dataTable, element);\n",
              "          const docLink = document.createElement('div');\n",
              "          docLink.innerHTML = docLinkHtml;\n",
              "          element.appendChild(docLink);\n",
              "        }\n",
              "      </script>\n",
              "    </div>\n",
              "  </div>\n",
              "  "
            ]
          },
          "metadata": {},
          "execution_count": 32
        }
      ],
      "source": [
        "data.head()"
      ]
    },
    {
      "cell_type": "markdown",
      "metadata": {
        "id": "GBsuSn-0j9o4"
      },
      "source": [
        "looks great , letl's repeat it to Offense Description"
      ]
    },
    {
      "cell_type": "code",
      "execution_count": 33,
      "metadata": {
        "id": "XeUpEqMqj9o4",
        "colab": {
          "base_uri": "https://localhost:8080/",
          "height": 250
        },
        "outputId": "466c92cf-5b60-4ba4-852b-a784cb18801a"
      },
      "outputs": [
        {
          "output_type": "execute_result",
          "data": {
            "text/plain": [
              "  DISTRICT  YEAR  MONTH DAY_OF_WEEK  HOUR    UCR_PART  Lat code  Long code  \\\n",
              "0      D14  2018      9      Sunday    13    Part One     42.36     -71.14   \n",
              "1      C11  2018      8     Tuesday     0    Part Two     42.31     -71.06   \n",
              "2       D4  2018      9      Monday    19  Part Three     42.35     -71.07   \n",
              "3       D4  2018      9      Monday    21  Part Three     42.33     -71.08   \n",
              "4       B3  2018      9      Monday    21  Part Three     42.28     -71.09   \n",
              "\n",
              "   shooting code  Offense Code  Offense Desc Code  \n",
              "0              0            34                129  \n",
              "1              0            63                230  \n",
              "2              0            62                222  \n",
              "3              0            32                123  \n",
              "4              0            32                123  "
            ],
            "text/html": [
              "\n",
              "  <div id=\"df-b876d081-d315-4bfc-9872-9554fcff50c9\">\n",
              "    <div class=\"colab-df-container\">\n",
              "      <div>\n",
              "<style scoped>\n",
              "    .dataframe tbody tr th:only-of-type {\n",
              "        vertical-align: middle;\n",
              "    }\n",
              "\n",
              "    .dataframe tbody tr th {\n",
              "        vertical-align: top;\n",
              "    }\n",
              "\n",
              "    .dataframe thead th {\n",
              "        text-align: right;\n",
              "    }\n",
              "</style>\n",
              "<table border=\"1\" class=\"dataframe\">\n",
              "  <thead>\n",
              "    <tr style=\"text-align: right;\">\n",
              "      <th></th>\n",
              "      <th>DISTRICT</th>\n",
              "      <th>YEAR</th>\n",
              "      <th>MONTH</th>\n",
              "      <th>DAY_OF_WEEK</th>\n",
              "      <th>HOUR</th>\n",
              "      <th>UCR_PART</th>\n",
              "      <th>Lat code</th>\n",
              "      <th>Long code</th>\n",
              "      <th>shooting code</th>\n",
              "      <th>Offense Code</th>\n",
              "      <th>Offense Desc Code</th>\n",
              "    </tr>\n",
              "  </thead>\n",
              "  <tbody>\n",
              "    <tr>\n",
              "      <th>0</th>\n",
              "      <td>D14</td>\n",
              "      <td>2018</td>\n",
              "      <td>9</td>\n",
              "      <td>Sunday</td>\n",
              "      <td>13</td>\n",
              "      <td>Part One</td>\n",
              "      <td>42.36</td>\n",
              "      <td>-71.14</td>\n",
              "      <td>0</td>\n",
              "      <td>34</td>\n",
              "      <td>129</td>\n",
              "    </tr>\n",
              "    <tr>\n",
              "      <th>1</th>\n",
              "      <td>C11</td>\n",
              "      <td>2018</td>\n",
              "      <td>8</td>\n",
              "      <td>Tuesday</td>\n",
              "      <td>0</td>\n",
              "      <td>Part Two</td>\n",
              "      <td>42.31</td>\n",
              "      <td>-71.06</td>\n",
              "      <td>0</td>\n",
              "      <td>63</td>\n",
              "      <td>230</td>\n",
              "    </tr>\n",
              "    <tr>\n",
              "      <th>2</th>\n",
              "      <td>D4</td>\n",
              "      <td>2018</td>\n",
              "      <td>9</td>\n",
              "      <td>Monday</td>\n",
              "      <td>19</td>\n",
              "      <td>Part Three</td>\n",
              "      <td>42.35</td>\n",
              "      <td>-71.07</td>\n",
              "      <td>0</td>\n",
              "      <td>62</td>\n",
              "      <td>222</td>\n",
              "    </tr>\n",
              "    <tr>\n",
              "      <th>3</th>\n",
              "      <td>D4</td>\n",
              "      <td>2018</td>\n",
              "      <td>9</td>\n",
              "      <td>Monday</td>\n",
              "      <td>21</td>\n",
              "      <td>Part Three</td>\n",
              "      <td>42.33</td>\n",
              "      <td>-71.08</td>\n",
              "      <td>0</td>\n",
              "      <td>32</td>\n",
              "      <td>123</td>\n",
              "    </tr>\n",
              "    <tr>\n",
              "      <th>4</th>\n",
              "      <td>B3</td>\n",
              "      <td>2018</td>\n",
              "      <td>9</td>\n",
              "      <td>Monday</td>\n",
              "      <td>21</td>\n",
              "      <td>Part Three</td>\n",
              "      <td>42.28</td>\n",
              "      <td>-71.09</td>\n",
              "      <td>0</td>\n",
              "      <td>32</td>\n",
              "      <td>123</td>\n",
              "    </tr>\n",
              "  </tbody>\n",
              "</table>\n",
              "</div>\n",
              "      <button class=\"colab-df-convert\" onclick=\"convertToInteractive('df-b876d081-d315-4bfc-9872-9554fcff50c9')\"\n",
              "              title=\"Convert this dataframe to an interactive table.\"\n",
              "              style=\"display:none;\">\n",
              "        \n",
              "  <svg xmlns=\"http://www.w3.org/2000/svg\" height=\"24px\"viewBox=\"0 0 24 24\"\n",
              "       width=\"24px\">\n",
              "    <path d=\"M0 0h24v24H0V0z\" fill=\"none\"/>\n",
              "    <path d=\"M18.56 5.44l.94 2.06.94-2.06 2.06-.94-2.06-.94-.94-2.06-.94 2.06-2.06.94zm-11 1L8.5 8.5l.94-2.06 2.06-.94-2.06-.94L8.5 2.5l-.94 2.06-2.06.94zm10 10l.94 2.06.94-2.06 2.06-.94-2.06-.94-.94-2.06-.94 2.06-2.06.94z\"/><path d=\"M17.41 7.96l-1.37-1.37c-.4-.4-.92-.59-1.43-.59-.52 0-1.04.2-1.43.59L10.3 9.45l-7.72 7.72c-.78.78-.78 2.05 0 2.83L4 21.41c.39.39.9.59 1.41.59.51 0 1.02-.2 1.41-.59l7.78-7.78 2.81-2.81c.8-.78.8-2.07 0-2.86zM5.41 20L4 18.59l7.72-7.72 1.47 1.35L5.41 20z\"/>\n",
              "  </svg>\n",
              "      </button>\n",
              "      \n",
              "  <style>\n",
              "    .colab-df-container {\n",
              "      display:flex;\n",
              "      flex-wrap:wrap;\n",
              "      gap: 12px;\n",
              "    }\n",
              "\n",
              "    .colab-df-convert {\n",
              "      background-color: #E8F0FE;\n",
              "      border: none;\n",
              "      border-radius: 50%;\n",
              "      cursor: pointer;\n",
              "      display: none;\n",
              "      fill: #1967D2;\n",
              "      height: 32px;\n",
              "      padding: 0 0 0 0;\n",
              "      width: 32px;\n",
              "    }\n",
              "\n",
              "    .colab-df-convert:hover {\n",
              "      background-color: #E2EBFA;\n",
              "      box-shadow: 0px 1px 2px rgba(60, 64, 67, 0.3), 0px 1px 3px 1px rgba(60, 64, 67, 0.15);\n",
              "      fill: #174EA6;\n",
              "    }\n",
              "\n",
              "    [theme=dark] .colab-df-convert {\n",
              "      background-color: #3B4455;\n",
              "      fill: #D2E3FC;\n",
              "    }\n",
              "\n",
              "    [theme=dark] .colab-df-convert:hover {\n",
              "      background-color: #434B5C;\n",
              "      box-shadow: 0px 1px 3px 1px rgba(0, 0, 0, 0.15);\n",
              "      filter: drop-shadow(0px 1px 2px rgba(0, 0, 0, 0.3));\n",
              "      fill: #FFFFFF;\n",
              "    }\n",
              "  </style>\n",
              "\n",
              "      <script>\n",
              "        const buttonEl =\n",
              "          document.querySelector('#df-b876d081-d315-4bfc-9872-9554fcff50c9 button.colab-df-convert');\n",
              "        buttonEl.style.display =\n",
              "          google.colab.kernel.accessAllowed ? 'block' : 'none';\n",
              "\n",
              "        async function convertToInteractive(key) {\n",
              "          const element = document.querySelector('#df-b876d081-d315-4bfc-9872-9554fcff50c9');\n",
              "          const dataTable =\n",
              "            await google.colab.kernel.invokeFunction('convertToInteractive',\n",
              "                                                     [key], {});\n",
              "          if (!dataTable) return;\n",
              "\n",
              "          const docLinkHtml = 'Like what you see? Visit the ' +\n",
              "            '<a target=\"_blank\" href=https://colab.research.google.com/notebooks/data_table.ipynb>data table notebook</a>'\n",
              "            + ' to learn more about interactive tables.';\n",
              "          element.innerHTML = '';\n",
              "          dataTable['output_type'] = 'display_data';\n",
              "          await google.colab.output.renderOutput(dataTable, element);\n",
              "          const docLink = document.createElement('div');\n",
              "          docLink.innerHTML = docLinkHtml;\n",
              "          element.appendChild(docLink);\n",
              "        }\n",
              "      </script>\n",
              "    </div>\n",
              "  </div>\n",
              "  "
            ]
          },
          "metadata": {},
          "execution_count": 33
        }
      ],
      "source": [
        "enc  = LabelEncoder()\n",
        "enc.fit(data['OFFENSE_DESCRIPTION'])\n",
        "data['Offense Desc Code'] = enc.transform(data['OFFENSE_DESCRIPTION'])\n",
        "data.drop(['OFFENSE_DESCRIPTION'],axis=1, inplace=True)\n",
        "data.head()"
      ]
    },
    {
      "cell_type": "markdown",
      "metadata": {
        "id": "L-_EwdMKj9o4"
      },
      "source": [
        "then District"
      ]
    },
    {
      "cell_type": "code",
      "execution_count": 34,
      "metadata": {
        "id": "nHr6361Uj9o4",
        "colab": {
          "base_uri": "https://localhost:8080/",
          "height": 320
        },
        "outputId": "441b5f37-670f-4624-a219-e69bf53310e4"
      },
      "outputs": [
        {
          "output_type": "execute_result",
          "data": {
            "text/plain": [
              "   YEAR  MONTH DAY_OF_WEEK  HOUR    UCR_PART  Lat code  Long code  \\\n",
              "0  2018      9      Sunday    13    Part One     42.36     -71.14   \n",
              "1  2018      8     Tuesday     0    Part Two     42.31     -71.06   \n",
              "2  2018      9      Monday    19  Part Three     42.35     -71.07   \n",
              "3  2018      9      Monday    21  Part Three     42.33     -71.08   \n",
              "4  2018      9      Monday    21  Part Three     42.28     -71.09   \n",
              "\n",
              "   shooting code  Offense Code  Offense Desc Code  District Code  \n",
              "0              0            34                129              7  \n",
              "1              0            63                230              5  \n",
              "2              0            62                222              8  \n",
              "3              0            32                123              8  \n",
              "4              0            32                123              4  "
            ],
            "text/html": [
              "\n",
              "  <div id=\"df-fbcd910a-c5e7-42a3-852e-b3fde207eb33\">\n",
              "    <div class=\"colab-df-container\">\n",
              "      <div>\n",
              "<style scoped>\n",
              "    .dataframe tbody tr th:only-of-type {\n",
              "        vertical-align: middle;\n",
              "    }\n",
              "\n",
              "    .dataframe tbody tr th {\n",
              "        vertical-align: top;\n",
              "    }\n",
              "\n",
              "    .dataframe thead th {\n",
              "        text-align: right;\n",
              "    }\n",
              "</style>\n",
              "<table border=\"1\" class=\"dataframe\">\n",
              "  <thead>\n",
              "    <tr style=\"text-align: right;\">\n",
              "      <th></th>\n",
              "      <th>YEAR</th>\n",
              "      <th>MONTH</th>\n",
              "      <th>DAY_OF_WEEK</th>\n",
              "      <th>HOUR</th>\n",
              "      <th>UCR_PART</th>\n",
              "      <th>Lat code</th>\n",
              "      <th>Long code</th>\n",
              "      <th>shooting code</th>\n",
              "      <th>Offense Code</th>\n",
              "      <th>Offense Desc Code</th>\n",
              "      <th>District Code</th>\n",
              "    </tr>\n",
              "  </thead>\n",
              "  <tbody>\n",
              "    <tr>\n",
              "      <th>0</th>\n",
              "      <td>2018</td>\n",
              "      <td>9</td>\n",
              "      <td>Sunday</td>\n",
              "      <td>13</td>\n",
              "      <td>Part One</td>\n",
              "      <td>42.36</td>\n",
              "      <td>-71.14</td>\n",
              "      <td>0</td>\n",
              "      <td>34</td>\n",
              "      <td>129</td>\n",
              "      <td>7</td>\n",
              "    </tr>\n",
              "    <tr>\n",
              "      <th>1</th>\n",
              "      <td>2018</td>\n",
              "      <td>8</td>\n",
              "      <td>Tuesday</td>\n",
              "      <td>0</td>\n",
              "      <td>Part Two</td>\n",
              "      <td>42.31</td>\n",
              "      <td>-71.06</td>\n",
              "      <td>0</td>\n",
              "      <td>63</td>\n",
              "      <td>230</td>\n",
              "      <td>5</td>\n",
              "    </tr>\n",
              "    <tr>\n",
              "      <th>2</th>\n",
              "      <td>2018</td>\n",
              "      <td>9</td>\n",
              "      <td>Monday</td>\n",
              "      <td>19</td>\n",
              "      <td>Part Three</td>\n",
              "      <td>42.35</td>\n",
              "      <td>-71.07</td>\n",
              "      <td>0</td>\n",
              "      <td>62</td>\n",
              "      <td>222</td>\n",
              "      <td>8</td>\n",
              "    </tr>\n",
              "    <tr>\n",
              "      <th>3</th>\n",
              "      <td>2018</td>\n",
              "      <td>9</td>\n",
              "      <td>Monday</td>\n",
              "      <td>21</td>\n",
              "      <td>Part Three</td>\n",
              "      <td>42.33</td>\n",
              "      <td>-71.08</td>\n",
              "      <td>0</td>\n",
              "      <td>32</td>\n",
              "      <td>123</td>\n",
              "      <td>8</td>\n",
              "    </tr>\n",
              "    <tr>\n",
              "      <th>4</th>\n",
              "      <td>2018</td>\n",
              "      <td>9</td>\n",
              "      <td>Monday</td>\n",
              "      <td>21</td>\n",
              "      <td>Part Three</td>\n",
              "      <td>42.28</td>\n",
              "      <td>-71.09</td>\n",
              "      <td>0</td>\n",
              "      <td>32</td>\n",
              "      <td>123</td>\n",
              "      <td>4</td>\n",
              "    </tr>\n",
              "  </tbody>\n",
              "</table>\n",
              "</div>\n",
              "      <button class=\"colab-df-convert\" onclick=\"convertToInteractive('df-fbcd910a-c5e7-42a3-852e-b3fde207eb33')\"\n",
              "              title=\"Convert this dataframe to an interactive table.\"\n",
              "              style=\"display:none;\">\n",
              "        \n",
              "  <svg xmlns=\"http://www.w3.org/2000/svg\" height=\"24px\"viewBox=\"0 0 24 24\"\n",
              "       width=\"24px\">\n",
              "    <path d=\"M0 0h24v24H0V0z\" fill=\"none\"/>\n",
              "    <path d=\"M18.56 5.44l.94 2.06.94-2.06 2.06-.94-2.06-.94-.94-2.06-.94 2.06-2.06.94zm-11 1L8.5 8.5l.94-2.06 2.06-.94-2.06-.94L8.5 2.5l-.94 2.06-2.06.94zm10 10l.94 2.06.94-2.06 2.06-.94-2.06-.94-.94-2.06-.94 2.06-2.06.94z\"/><path d=\"M17.41 7.96l-1.37-1.37c-.4-.4-.92-.59-1.43-.59-.52 0-1.04.2-1.43.59L10.3 9.45l-7.72 7.72c-.78.78-.78 2.05 0 2.83L4 21.41c.39.39.9.59 1.41.59.51 0 1.02-.2 1.41-.59l7.78-7.78 2.81-2.81c.8-.78.8-2.07 0-2.86zM5.41 20L4 18.59l7.72-7.72 1.47 1.35L5.41 20z\"/>\n",
              "  </svg>\n",
              "      </button>\n",
              "      \n",
              "  <style>\n",
              "    .colab-df-container {\n",
              "      display:flex;\n",
              "      flex-wrap:wrap;\n",
              "      gap: 12px;\n",
              "    }\n",
              "\n",
              "    .colab-df-convert {\n",
              "      background-color: #E8F0FE;\n",
              "      border: none;\n",
              "      border-radius: 50%;\n",
              "      cursor: pointer;\n",
              "      display: none;\n",
              "      fill: #1967D2;\n",
              "      height: 32px;\n",
              "      padding: 0 0 0 0;\n",
              "      width: 32px;\n",
              "    }\n",
              "\n",
              "    .colab-df-convert:hover {\n",
              "      background-color: #E2EBFA;\n",
              "      box-shadow: 0px 1px 2px rgba(60, 64, 67, 0.3), 0px 1px 3px 1px rgba(60, 64, 67, 0.15);\n",
              "      fill: #174EA6;\n",
              "    }\n",
              "\n",
              "    [theme=dark] .colab-df-convert {\n",
              "      background-color: #3B4455;\n",
              "      fill: #D2E3FC;\n",
              "    }\n",
              "\n",
              "    [theme=dark] .colab-df-convert:hover {\n",
              "      background-color: #434B5C;\n",
              "      box-shadow: 0px 1px 3px 1px rgba(0, 0, 0, 0.15);\n",
              "      filter: drop-shadow(0px 1px 2px rgba(0, 0, 0, 0.3));\n",
              "      fill: #FFFFFF;\n",
              "    }\n",
              "  </style>\n",
              "\n",
              "      <script>\n",
              "        const buttonEl =\n",
              "          document.querySelector('#df-fbcd910a-c5e7-42a3-852e-b3fde207eb33 button.colab-df-convert');\n",
              "        buttonEl.style.display =\n",
              "          google.colab.kernel.accessAllowed ? 'block' : 'none';\n",
              "\n",
              "        async function convertToInteractive(key) {\n",
              "          const element = document.querySelector('#df-fbcd910a-c5e7-42a3-852e-b3fde207eb33');\n",
              "          const dataTable =\n",
              "            await google.colab.kernel.invokeFunction('convertToInteractive',\n",
              "                                                     [key], {});\n",
              "          if (!dataTable) return;\n",
              "\n",
              "          const docLinkHtml = 'Like what you see? Visit the ' +\n",
              "            '<a target=\"_blank\" href=https://colab.research.google.com/notebooks/data_table.ipynb>data table notebook</a>'\n",
              "            + ' to learn more about interactive tables.';\n",
              "          element.innerHTML = '';\n",
              "          dataTable['output_type'] = 'display_data';\n",
              "          await google.colab.output.renderOutput(dataTable, element);\n",
              "          const docLink = document.createElement('div');\n",
              "          docLink.innerHTML = docLinkHtml;\n",
              "          element.appendChild(docLink);\n",
              "        }\n",
              "      </script>\n",
              "    </div>\n",
              "  </div>\n",
              "  "
            ]
          },
          "metadata": {},
          "execution_count": 34
        }
      ],
      "source": [
        "enc  = LabelEncoder()\n",
        "enc.fit(data['DISTRICT'])\n",
        "data['District Code'] = enc.transform(data['DISTRICT'])\n",
        "data.drop(['DISTRICT'],axis=1, inplace=True)\n",
        "data.head()"
      ]
    },
    {
      "cell_type": "markdown",
      "metadata": {
        "id": "wJrF8kbGj9o4"
      },
      "source": [
        "& day of week"
      ]
    },
    {
      "cell_type": "code",
      "execution_count": 35,
      "metadata": {
        "id": "883jet7vj9o4",
        "colab": {
          "base_uri": "https://localhost:8080/",
          "height": 320
        },
        "outputId": "7da27e62-0ae8-4ca2-cbb3-7b82a183a56b"
      },
      "outputs": [
        {
          "output_type": "execute_result",
          "data": {
            "text/plain": [
              "   YEAR  MONTH  HOUR    UCR_PART  Lat code  Long code  shooting code  \\\n",
              "0  2018      9    13    Part One     42.36     -71.14              0   \n",
              "1  2018      8     0    Part Two     42.31     -71.06              0   \n",
              "2  2018      9    19  Part Three     42.35     -71.07              0   \n",
              "3  2018      9    21  Part Three     42.33     -71.08              0   \n",
              "4  2018      9    21  Part Three     42.28     -71.09              0   \n",
              "\n",
              "   Offense Code  Offense Desc Code  District Code  Day Code  \n",
              "0            34                129              7         3  \n",
              "1            63                230              5         5  \n",
              "2            62                222              8         1  \n",
              "3            32                123              8         1  \n",
              "4            32                123              4         1  "
            ],
            "text/html": [
              "\n",
              "  <div id=\"df-0241cd6e-5448-44c9-a664-29db2deb6fe9\">\n",
              "    <div class=\"colab-df-container\">\n",
              "      <div>\n",
              "<style scoped>\n",
              "    .dataframe tbody tr th:only-of-type {\n",
              "        vertical-align: middle;\n",
              "    }\n",
              "\n",
              "    .dataframe tbody tr th {\n",
              "        vertical-align: top;\n",
              "    }\n",
              "\n",
              "    .dataframe thead th {\n",
              "        text-align: right;\n",
              "    }\n",
              "</style>\n",
              "<table border=\"1\" class=\"dataframe\">\n",
              "  <thead>\n",
              "    <tr style=\"text-align: right;\">\n",
              "      <th></th>\n",
              "      <th>YEAR</th>\n",
              "      <th>MONTH</th>\n",
              "      <th>HOUR</th>\n",
              "      <th>UCR_PART</th>\n",
              "      <th>Lat code</th>\n",
              "      <th>Long code</th>\n",
              "      <th>shooting code</th>\n",
              "      <th>Offense Code</th>\n",
              "      <th>Offense Desc Code</th>\n",
              "      <th>District Code</th>\n",
              "      <th>Day Code</th>\n",
              "    </tr>\n",
              "  </thead>\n",
              "  <tbody>\n",
              "    <tr>\n",
              "      <th>0</th>\n",
              "      <td>2018</td>\n",
              "      <td>9</td>\n",
              "      <td>13</td>\n",
              "      <td>Part One</td>\n",
              "      <td>42.36</td>\n",
              "      <td>-71.14</td>\n",
              "      <td>0</td>\n",
              "      <td>34</td>\n",
              "      <td>129</td>\n",
              "      <td>7</td>\n",
              "      <td>3</td>\n",
              "    </tr>\n",
              "    <tr>\n",
              "      <th>1</th>\n",
              "      <td>2018</td>\n",
              "      <td>8</td>\n",
              "      <td>0</td>\n",
              "      <td>Part Two</td>\n",
              "      <td>42.31</td>\n",
              "      <td>-71.06</td>\n",
              "      <td>0</td>\n",
              "      <td>63</td>\n",
              "      <td>230</td>\n",
              "      <td>5</td>\n",
              "      <td>5</td>\n",
              "    </tr>\n",
              "    <tr>\n",
              "      <th>2</th>\n",
              "      <td>2018</td>\n",
              "      <td>9</td>\n",
              "      <td>19</td>\n",
              "      <td>Part Three</td>\n",
              "      <td>42.35</td>\n",
              "      <td>-71.07</td>\n",
              "      <td>0</td>\n",
              "      <td>62</td>\n",
              "      <td>222</td>\n",
              "      <td>8</td>\n",
              "      <td>1</td>\n",
              "    </tr>\n",
              "    <tr>\n",
              "      <th>3</th>\n",
              "      <td>2018</td>\n",
              "      <td>9</td>\n",
              "      <td>21</td>\n",
              "      <td>Part Three</td>\n",
              "      <td>42.33</td>\n",
              "      <td>-71.08</td>\n",
              "      <td>0</td>\n",
              "      <td>32</td>\n",
              "      <td>123</td>\n",
              "      <td>8</td>\n",
              "      <td>1</td>\n",
              "    </tr>\n",
              "    <tr>\n",
              "      <th>4</th>\n",
              "      <td>2018</td>\n",
              "      <td>9</td>\n",
              "      <td>21</td>\n",
              "      <td>Part Three</td>\n",
              "      <td>42.28</td>\n",
              "      <td>-71.09</td>\n",
              "      <td>0</td>\n",
              "      <td>32</td>\n",
              "      <td>123</td>\n",
              "      <td>4</td>\n",
              "      <td>1</td>\n",
              "    </tr>\n",
              "  </tbody>\n",
              "</table>\n",
              "</div>\n",
              "      <button class=\"colab-df-convert\" onclick=\"convertToInteractive('df-0241cd6e-5448-44c9-a664-29db2deb6fe9')\"\n",
              "              title=\"Convert this dataframe to an interactive table.\"\n",
              "              style=\"display:none;\">\n",
              "        \n",
              "  <svg xmlns=\"http://www.w3.org/2000/svg\" height=\"24px\"viewBox=\"0 0 24 24\"\n",
              "       width=\"24px\">\n",
              "    <path d=\"M0 0h24v24H0V0z\" fill=\"none\"/>\n",
              "    <path d=\"M18.56 5.44l.94 2.06.94-2.06 2.06-.94-2.06-.94-.94-2.06-.94 2.06-2.06.94zm-11 1L8.5 8.5l.94-2.06 2.06-.94-2.06-.94L8.5 2.5l-.94 2.06-2.06.94zm10 10l.94 2.06.94-2.06 2.06-.94-2.06-.94-.94-2.06-.94 2.06-2.06.94z\"/><path d=\"M17.41 7.96l-1.37-1.37c-.4-.4-.92-.59-1.43-.59-.52 0-1.04.2-1.43.59L10.3 9.45l-7.72 7.72c-.78.78-.78 2.05 0 2.83L4 21.41c.39.39.9.59 1.41.59.51 0 1.02-.2 1.41-.59l7.78-7.78 2.81-2.81c.8-.78.8-2.07 0-2.86zM5.41 20L4 18.59l7.72-7.72 1.47 1.35L5.41 20z\"/>\n",
              "  </svg>\n",
              "      </button>\n",
              "      \n",
              "  <style>\n",
              "    .colab-df-container {\n",
              "      display:flex;\n",
              "      flex-wrap:wrap;\n",
              "      gap: 12px;\n",
              "    }\n",
              "\n",
              "    .colab-df-convert {\n",
              "      background-color: #E8F0FE;\n",
              "      border: none;\n",
              "      border-radius: 50%;\n",
              "      cursor: pointer;\n",
              "      display: none;\n",
              "      fill: #1967D2;\n",
              "      height: 32px;\n",
              "      padding: 0 0 0 0;\n",
              "      width: 32px;\n",
              "    }\n",
              "\n",
              "    .colab-df-convert:hover {\n",
              "      background-color: #E2EBFA;\n",
              "      box-shadow: 0px 1px 2px rgba(60, 64, 67, 0.3), 0px 1px 3px 1px rgba(60, 64, 67, 0.15);\n",
              "      fill: #174EA6;\n",
              "    }\n",
              "\n",
              "    [theme=dark] .colab-df-convert {\n",
              "      background-color: #3B4455;\n",
              "      fill: #D2E3FC;\n",
              "    }\n",
              "\n",
              "    [theme=dark] .colab-df-convert:hover {\n",
              "      background-color: #434B5C;\n",
              "      box-shadow: 0px 1px 3px 1px rgba(0, 0, 0, 0.15);\n",
              "      filter: drop-shadow(0px 1px 2px rgba(0, 0, 0, 0.3));\n",
              "      fill: #FFFFFF;\n",
              "    }\n",
              "  </style>\n",
              "\n",
              "      <script>\n",
              "        const buttonEl =\n",
              "          document.querySelector('#df-0241cd6e-5448-44c9-a664-29db2deb6fe9 button.colab-df-convert');\n",
              "        buttonEl.style.display =\n",
              "          google.colab.kernel.accessAllowed ? 'block' : 'none';\n",
              "\n",
              "        async function convertToInteractive(key) {\n",
              "          const element = document.querySelector('#df-0241cd6e-5448-44c9-a664-29db2deb6fe9');\n",
              "          const dataTable =\n",
              "            await google.colab.kernel.invokeFunction('convertToInteractive',\n",
              "                                                     [key], {});\n",
              "          if (!dataTable) return;\n",
              "\n",
              "          const docLinkHtml = 'Like what you see? Visit the ' +\n",
              "            '<a target=\"_blank\" href=https://colab.research.google.com/notebooks/data_table.ipynb>data table notebook</a>'\n",
              "            + ' to learn more about interactive tables.';\n",
              "          element.innerHTML = '';\n",
              "          dataTable['output_type'] = 'display_data';\n",
              "          await google.colab.output.renderOutput(dataTable, element);\n",
              "          const docLink = document.createElement('div');\n",
              "          docLink.innerHTML = docLinkHtml;\n",
              "          element.appendChild(docLink);\n",
              "        }\n",
              "      </script>\n",
              "    </div>\n",
              "  </div>\n",
              "  "
            ]
          },
          "metadata": {},
          "execution_count": 35
        }
      ],
      "source": [
        "enc  = LabelEncoder()\n",
        "enc.fit(data['DAY_OF_WEEK'])\n",
        "data['Day Code'] = enc.transform(data['DAY_OF_WEEK'])\n",
        "data.drop(['DAY_OF_WEEK'],axis=1, inplace=True)\n",
        "data.head()"
      ]
    },
    {
      "cell_type": "markdown",
      "metadata": {
        "id": "aPYM54PBj9o4"
      },
      "source": [
        "then UCR part"
      ]
    },
    {
      "cell_type": "code",
      "execution_count": 36,
      "metadata": {
        "id": "Oi17gJ_rj9o4",
        "colab": {
          "base_uri": "https://localhost:8080/",
          "height": 268
        },
        "outputId": "484945d9-c6b6-42e4-cab5-b66587b28444"
      },
      "outputs": [
        {
          "output_type": "execute_result",
          "data": {
            "text/plain": [
              "   YEAR  MONTH  HOUR  Lat code  Long code  shooting code  Offense Code  \\\n",
              "0  2018      9    13     42.36     -71.14              0            34   \n",
              "1  2018      8     0     42.31     -71.06              0            63   \n",
              "2  2018      9    19     42.35     -71.07              0            62   \n",
              "3  2018      9    21     42.33     -71.08              0            32   \n",
              "4  2018      9    21     42.28     -71.09              0            32   \n",
              "\n",
              "   Offense Desc Code  District Code  Day Code  UCR Code  \n",
              "0                129              7         3         1  \n",
              "1                230              5         5         3  \n",
              "2                222              8         1         2  \n",
              "3                123              8         1         2  \n",
              "4                123              4         1         2  "
            ],
            "text/html": [
              "\n",
              "  <div id=\"df-e92810ed-e8f1-4441-be1d-826a93e2dcc0\">\n",
              "    <div class=\"colab-df-container\">\n",
              "      <div>\n",
              "<style scoped>\n",
              "    .dataframe tbody tr th:only-of-type {\n",
              "        vertical-align: middle;\n",
              "    }\n",
              "\n",
              "    .dataframe tbody tr th {\n",
              "        vertical-align: top;\n",
              "    }\n",
              "\n",
              "    .dataframe thead th {\n",
              "        text-align: right;\n",
              "    }\n",
              "</style>\n",
              "<table border=\"1\" class=\"dataframe\">\n",
              "  <thead>\n",
              "    <tr style=\"text-align: right;\">\n",
              "      <th></th>\n",
              "      <th>YEAR</th>\n",
              "      <th>MONTH</th>\n",
              "      <th>HOUR</th>\n",
              "      <th>Lat code</th>\n",
              "      <th>Long code</th>\n",
              "      <th>shooting code</th>\n",
              "      <th>Offense Code</th>\n",
              "      <th>Offense Desc Code</th>\n",
              "      <th>District Code</th>\n",
              "      <th>Day Code</th>\n",
              "      <th>UCR Code</th>\n",
              "    </tr>\n",
              "  </thead>\n",
              "  <tbody>\n",
              "    <tr>\n",
              "      <th>0</th>\n",
              "      <td>2018</td>\n",
              "      <td>9</td>\n",
              "      <td>13</td>\n",
              "      <td>42.36</td>\n",
              "      <td>-71.14</td>\n",
              "      <td>0</td>\n",
              "      <td>34</td>\n",
              "      <td>129</td>\n",
              "      <td>7</td>\n",
              "      <td>3</td>\n",
              "      <td>1</td>\n",
              "    </tr>\n",
              "    <tr>\n",
              "      <th>1</th>\n",
              "      <td>2018</td>\n",
              "      <td>8</td>\n",
              "      <td>0</td>\n",
              "      <td>42.31</td>\n",
              "      <td>-71.06</td>\n",
              "      <td>0</td>\n",
              "      <td>63</td>\n",
              "      <td>230</td>\n",
              "      <td>5</td>\n",
              "      <td>5</td>\n",
              "      <td>3</td>\n",
              "    </tr>\n",
              "    <tr>\n",
              "      <th>2</th>\n",
              "      <td>2018</td>\n",
              "      <td>9</td>\n",
              "      <td>19</td>\n",
              "      <td>42.35</td>\n",
              "      <td>-71.07</td>\n",
              "      <td>0</td>\n",
              "      <td>62</td>\n",
              "      <td>222</td>\n",
              "      <td>8</td>\n",
              "      <td>1</td>\n",
              "      <td>2</td>\n",
              "    </tr>\n",
              "    <tr>\n",
              "      <th>3</th>\n",
              "      <td>2018</td>\n",
              "      <td>9</td>\n",
              "      <td>21</td>\n",
              "      <td>42.33</td>\n",
              "      <td>-71.08</td>\n",
              "      <td>0</td>\n",
              "      <td>32</td>\n",
              "      <td>123</td>\n",
              "      <td>8</td>\n",
              "      <td>1</td>\n",
              "      <td>2</td>\n",
              "    </tr>\n",
              "    <tr>\n",
              "      <th>4</th>\n",
              "      <td>2018</td>\n",
              "      <td>9</td>\n",
              "      <td>21</td>\n",
              "      <td>42.28</td>\n",
              "      <td>-71.09</td>\n",
              "      <td>0</td>\n",
              "      <td>32</td>\n",
              "      <td>123</td>\n",
              "      <td>4</td>\n",
              "      <td>1</td>\n",
              "      <td>2</td>\n",
              "    </tr>\n",
              "  </tbody>\n",
              "</table>\n",
              "</div>\n",
              "      <button class=\"colab-df-convert\" onclick=\"convertToInteractive('df-e92810ed-e8f1-4441-be1d-826a93e2dcc0')\"\n",
              "              title=\"Convert this dataframe to an interactive table.\"\n",
              "              style=\"display:none;\">\n",
              "        \n",
              "  <svg xmlns=\"http://www.w3.org/2000/svg\" height=\"24px\"viewBox=\"0 0 24 24\"\n",
              "       width=\"24px\">\n",
              "    <path d=\"M0 0h24v24H0V0z\" fill=\"none\"/>\n",
              "    <path d=\"M18.56 5.44l.94 2.06.94-2.06 2.06-.94-2.06-.94-.94-2.06-.94 2.06-2.06.94zm-11 1L8.5 8.5l.94-2.06 2.06-.94-2.06-.94L8.5 2.5l-.94 2.06-2.06.94zm10 10l.94 2.06.94-2.06 2.06-.94-2.06-.94-.94-2.06-.94 2.06-2.06.94z\"/><path d=\"M17.41 7.96l-1.37-1.37c-.4-.4-.92-.59-1.43-.59-.52 0-1.04.2-1.43.59L10.3 9.45l-7.72 7.72c-.78.78-.78 2.05 0 2.83L4 21.41c.39.39.9.59 1.41.59.51 0 1.02-.2 1.41-.59l7.78-7.78 2.81-2.81c.8-.78.8-2.07 0-2.86zM5.41 20L4 18.59l7.72-7.72 1.47 1.35L5.41 20z\"/>\n",
              "  </svg>\n",
              "      </button>\n",
              "      \n",
              "  <style>\n",
              "    .colab-df-container {\n",
              "      display:flex;\n",
              "      flex-wrap:wrap;\n",
              "      gap: 12px;\n",
              "    }\n",
              "\n",
              "    .colab-df-convert {\n",
              "      background-color: #E8F0FE;\n",
              "      border: none;\n",
              "      border-radius: 50%;\n",
              "      cursor: pointer;\n",
              "      display: none;\n",
              "      fill: #1967D2;\n",
              "      height: 32px;\n",
              "      padding: 0 0 0 0;\n",
              "      width: 32px;\n",
              "    }\n",
              "\n",
              "    .colab-df-convert:hover {\n",
              "      background-color: #E2EBFA;\n",
              "      box-shadow: 0px 1px 2px rgba(60, 64, 67, 0.3), 0px 1px 3px 1px rgba(60, 64, 67, 0.15);\n",
              "      fill: #174EA6;\n",
              "    }\n",
              "\n",
              "    [theme=dark] .colab-df-convert {\n",
              "      background-color: #3B4455;\n",
              "      fill: #D2E3FC;\n",
              "    }\n",
              "\n",
              "    [theme=dark] .colab-df-convert:hover {\n",
              "      background-color: #434B5C;\n",
              "      box-shadow: 0px 1px 3px 1px rgba(0, 0, 0, 0.15);\n",
              "      filter: drop-shadow(0px 1px 2px rgba(0, 0, 0, 0.3));\n",
              "      fill: #FFFFFF;\n",
              "    }\n",
              "  </style>\n",
              "\n",
              "      <script>\n",
              "        const buttonEl =\n",
              "          document.querySelector('#df-e92810ed-e8f1-4441-be1d-826a93e2dcc0 button.colab-df-convert');\n",
              "        buttonEl.style.display =\n",
              "          google.colab.kernel.accessAllowed ? 'block' : 'none';\n",
              "\n",
              "        async function convertToInteractive(key) {\n",
              "          const element = document.querySelector('#df-e92810ed-e8f1-4441-be1d-826a93e2dcc0');\n",
              "          const dataTable =\n",
              "            await google.colab.kernel.invokeFunction('convertToInteractive',\n",
              "                                                     [key], {});\n",
              "          if (!dataTable) return;\n",
              "\n",
              "          const docLinkHtml = 'Like what you see? Visit the ' +\n",
              "            '<a target=\"_blank\" href=https://colab.research.google.com/notebooks/data_table.ipynb>data table notebook</a>'\n",
              "            + ' to learn more about interactive tables.';\n",
              "          element.innerHTML = '';\n",
              "          dataTable['output_type'] = 'display_data';\n",
              "          await google.colab.output.renderOutput(dataTable, element);\n",
              "          const docLink = document.createElement('div');\n",
              "          docLink.innerHTML = docLinkHtml;\n",
              "          element.appendChild(docLink);\n",
              "        }\n",
              "      </script>\n",
              "    </div>\n",
              "  </div>\n",
              "  "
            ]
          },
          "metadata": {},
          "execution_count": 36
        }
      ],
      "source": [
        "enc  = LabelEncoder()\n",
        "enc.fit(data['UCR_PART'])\n",
        "data['UCR Code'] = enc.transform(data['UCR_PART'])\n",
        "data.drop(['UCR_PART'],axis=1, inplace=True)\n",
        "data.head()"
      ]
    },
    {
      "cell_type": "markdown",
      "metadata": {
        "id": "w8-rNouMj9o5"
      },
      "source": [
        "ok , lets have a look to the data "
      ]
    },
    {
      "cell_type": "code",
      "execution_count": 37,
      "metadata": {
        "id": "dvvTMw5vj9o5",
        "colab": {
          "base_uri": "https://localhost:8080/",
          "height": 382
        },
        "outputId": "e8d2ba0d-3e19-414e-cd0a-61e969cc8aee"
      },
      "outputs": [
        {
          "output_type": "execute_result",
          "data": {
            "text/plain": [
              "                YEAR          MONTH           HOUR       Lat code  \\\n",
              "count  319073.000000  319073.000000  319073.000000  319073.000000   \n",
              "mean     2016.560586       6.609719      13.118205      42.214125   \n",
              "std         0.996344       3.273691       6.294205       2.090988   \n",
              "min      2015.000000       1.000000       0.000000      -1.000000   \n",
              "25%      2016.000000       4.000000       9.000000      42.290000   \n",
              "50%      2017.000000       7.000000      14.000000      42.320000   \n",
              "75%      2017.000000       9.000000      18.000000      42.350000   \n",
              "max      2018.000000      12.000000      23.000000      42.400000   \n",
              "\n",
              "           Long code  shooting code   Offense Code  Offense Desc Code  \\\n",
              "count  319073.000000  319073.000000  319073.000000      319073.000000   \n",
              "mean      -70.908309       0.003194      40.943972         151.458005   \n",
              "std         3.382356       0.056422      17.091211          66.670023   \n",
              "min       -71.180000       0.000000       0.000000           0.000000   \n",
              "25%       -71.100000       0.000000      32.000000         122.000000   \n",
              "50%       -71.080000       0.000000      42.000000         155.000000   \n",
              "75%       -71.060000       0.000000      56.000000         215.000000   \n",
              "max        -1.000000       1.000000      66.000000         243.000000   \n",
              "\n",
              "       District Code       Day Code       UCR Code  \n",
              "count  319073.000000  319073.000000  319073.000000  \n",
              "mean        5.180407       2.993569       2.105481  \n",
              "std         3.118157       2.031436       0.710202  \n",
              "min         0.000000       0.000000       0.000000  \n",
              "25%         3.000000       1.000000       2.000000  \n",
              "50%         5.000000       3.000000       2.000000  \n",
              "75%         8.000000       5.000000       3.000000  \n",
              "max        12.000000       6.000000       4.000000  "
            ],
            "text/html": [
              "\n",
              "  <div id=\"df-0305fdaa-8c4f-4f30-9fca-a188df627e43\">\n",
              "    <div class=\"colab-df-container\">\n",
              "      <div>\n",
              "<style scoped>\n",
              "    .dataframe tbody tr th:only-of-type {\n",
              "        vertical-align: middle;\n",
              "    }\n",
              "\n",
              "    .dataframe tbody tr th {\n",
              "        vertical-align: top;\n",
              "    }\n",
              "\n",
              "    .dataframe thead th {\n",
              "        text-align: right;\n",
              "    }\n",
              "</style>\n",
              "<table border=\"1\" class=\"dataframe\">\n",
              "  <thead>\n",
              "    <tr style=\"text-align: right;\">\n",
              "      <th></th>\n",
              "      <th>YEAR</th>\n",
              "      <th>MONTH</th>\n",
              "      <th>HOUR</th>\n",
              "      <th>Lat code</th>\n",
              "      <th>Long code</th>\n",
              "      <th>shooting code</th>\n",
              "      <th>Offense Code</th>\n",
              "      <th>Offense Desc Code</th>\n",
              "      <th>District Code</th>\n",
              "      <th>Day Code</th>\n",
              "      <th>UCR Code</th>\n",
              "    </tr>\n",
              "  </thead>\n",
              "  <tbody>\n",
              "    <tr>\n",
              "      <th>count</th>\n",
              "      <td>319073.000000</td>\n",
              "      <td>319073.000000</td>\n",
              "      <td>319073.000000</td>\n",
              "      <td>319073.000000</td>\n",
              "      <td>319073.000000</td>\n",
              "      <td>319073.000000</td>\n",
              "      <td>319073.000000</td>\n",
              "      <td>319073.000000</td>\n",
              "      <td>319073.000000</td>\n",
              "      <td>319073.000000</td>\n",
              "      <td>319073.000000</td>\n",
              "    </tr>\n",
              "    <tr>\n",
              "      <th>mean</th>\n",
              "      <td>2016.560586</td>\n",
              "      <td>6.609719</td>\n",
              "      <td>13.118205</td>\n",
              "      <td>42.214125</td>\n",
              "      <td>-70.908309</td>\n",
              "      <td>0.003194</td>\n",
              "      <td>40.943972</td>\n",
              "      <td>151.458005</td>\n",
              "      <td>5.180407</td>\n",
              "      <td>2.993569</td>\n",
              "      <td>2.105481</td>\n",
              "    </tr>\n",
              "    <tr>\n",
              "      <th>std</th>\n",
              "      <td>0.996344</td>\n",
              "      <td>3.273691</td>\n",
              "      <td>6.294205</td>\n",
              "      <td>2.090988</td>\n",
              "      <td>3.382356</td>\n",
              "      <td>0.056422</td>\n",
              "      <td>17.091211</td>\n",
              "      <td>66.670023</td>\n",
              "      <td>3.118157</td>\n",
              "      <td>2.031436</td>\n",
              "      <td>0.710202</td>\n",
              "    </tr>\n",
              "    <tr>\n",
              "      <th>min</th>\n",
              "      <td>2015.000000</td>\n",
              "      <td>1.000000</td>\n",
              "      <td>0.000000</td>\n",
              "      <td>-1.000000</td>\n",
              "      <td>-71.180000</td>\n",
              "      <td>0.000000</td>\n",
              "      <td>0.000000</td>\n",
              "      <td>0.000000</td>\n",
              "      <td>0.000000</td>\n",
              "      <td>0.000000</td>\n",
              "      <td>0.000000</td>\n",
              "    </tr>\n",
              "    <tr>\n",
              "      <th>25%</th>\n",
              "      <td>2016.000000</td>\n",
              "      <td>4.000000</td>\n",
              "      <td>9.000000</td>\n",
              "      <td>42.290000</td>\n",
              "      <td>-71.100000</td>\n",
              "      <td>0.000000</td>\n",
              "      <td>32.000000</td>\n",
              "      <td>122.000000</td>\n",
              "      <td>3.000000</td>\n",
              "      <td>1.000000</td>\n",
              "      <td>2.000000</td>\n",
              "    </tr>\n",
              "    <tr>\n",
              "      <th>50%</th>\n",
              "      <td>2017.000000</td>\n",
              "      <td>7.000000</td>\n",
              "      <td>14.000000</td>\n",
              "      <td>42.320000</td>\n",
              "      <td>-71.080000</td>\n",
              "      <td>0.000000</td>\n",
              "      <td>42.000000</td>\n",
              "      <td>155.000000</td>\n",
              "      <td>5.000000</td>\n",
              "      <td>3.000000</td>\n",
              "      <td>2.000000</td>\n",
              "    </tr>\n",
              "    <tr>\n",
              "      <th>75%</th>\n",
              "      <td>2017.000000</td>\n",
              "      <td>9.000000</td>\n",
              "      <td>18.000000</td>\n",
              "      <td>42.350000</td>\n",
              "      <td>-71.060000</td>\n",
              "      <td>0.000000</td>\n",
              "      <td>56.000000</td>\n",
              "      <td>215.000000</td>\n",
              "      <td>8.000000</td>\n",
              "      <td>5.000000</td>\n",
              "      <td>3.000000</td>\n",
              "    </tr>\n",
              "    <tr>\n",
              "      <th>max</th>\n",
              "      <td>2018.000000</td>\n",
              "      <td>12.000000</td>\n",
              "      <td>23.000000</td>\n",
              "      <td>42.400000</td>\n",
              "      <td>-1.000000</td>\n",
              "      <td>1.000000</td>\n",
              "      <td>66.000000</td>\n",
              "      <td>243.000000</td>\n",
              "      <td>12.000000</td>\n",
              "      <td>6.000000</td>\n",
              "      <td>4.000000</td>\n",
              "    </tr>\n",
              "  </tbody>\n",
              "</table>\n",
              "</div>\n",
              "      <button class=\"colab-df-convert\" onclick=\"convertToInteractive('df-0305fdaa-8c4f-4f30-9fca-a188df627e43')\"\n",
              "              title=\"Convert this dataframe to an interactive table.\"\n",
              "              style=\"display:none;\">\n",
              "        \n",
              "  <svg xmlns=\"http://www.w3.org/2000/svg\" height=\"24px\"viewBox=\"0 0 24 24\"\n",
              "       width=\"24px\">\n",
              "    <path d=\"M0 0h24v24H0V0z\" fill=\"none\"/>\n",
              "    <path d=\"M18.56 5.44l.94 2.06.94-2.06 2.06-.94-2.06-.94-.94-2.06-.94 2.06-2.06.94zm-11 1L8.5 8.5l.94-2.06 2.06-.94-2.06-.94L8.5 2.5l-.94 2.06-2.06.94zm10 10l.94 2.06.94-2.06 2.06-.94-2.06-.94-.94-2.06-.94 2.06-2.06.94z\"/><path d=\"M17.41 7.96l-1.37-1.37c-.4-.4-.92-.59-1.43-.59-.52 0-1.04.2-1.43.59L10.3 9.45l-7.72 7.72c-.78.78-.78 2.05 0 2.83L4 21.41c.39.39.9.59 1.41.59.51 0 1.02-.2 1.41-.59l7.78-7.78 2.81-2.81c.8-.78.8-2.07 0-2.86zM5.41 20L4 18.59l7.72-7.72 1.47 1.35L5.41 20z\"/>\n",
              "  </svg>\n",
              "      </button>\n",
              "      \n",
              "  <style>\n",
              "    .colab-df-container {\n",
              "      display:flex;\n",
              "      flex-wrap:wrap;\n",
              "      gap: 12px;\n",
              "    }\n",
              "\n",
              "    .colab-df-convert {\n",
              "      background-color: #E8F0FE;\n",
              "      border: none;\n",
              "      border-radius: 50%;\n",
              "      cursor: pointer;\n",
              "      display: none;\n",
              "      fill: #1967D2;\n",
              "      height: 32px;\n",
              "      padding: 0 0 0 0;\n",
              "      width: 32px;\n",
              "    }\n",
              "\n",
              "    .colab-df-convert:hover {\n",
              "      background-color: #E2EBFA;\n",
              "      box-shadow: 0px 1px 2px rgba(60, 64, 67, 0.3), 0px 1px 3px 1px rgba(60, 64, 67, 0.15);\n",
              "      fill: #174EA6;\n",
              "    }\n",
              "\n",
              "    [theme=dark] .colab-df-convert {\n",
              "      background-color: #3B4455;\n",
              "      fill: #D2E3FC;\n",
              "    }\n",
              "\n",
              "    [theme=dark] .colab-df-convert:hover {\n",
              "      background-color: #434B5C;\n",
              "      box-shadow: 0px 1px 3px 1px rgba(0, 0, 0, 0.15);\n",
              "      filter: drop-shadow(0px 1px 2px rgba(0, 0, 0, 0.3));\n",
              "      fill: #FFFFFF;\n",
              "    }\n",
              "  </style>\n",
              "\n",
              "      <script>\n",
              "        const buttonEl =\n",
              "          document.querySelector('#df-0305fdaa-8c4f-4f30-9fca-a188df627e43 button.colab-df-convert');\n",
              "        buttonEl.style.display =\n",
              "          google.colab.kernel.accessAllowed ? 'block' : 'none';\n",
              "\n",
              "        async function convertToInteractive(key) {\n",
              "          const element = document.querySelector('#df-0305fdaa-8c4f-4f30-9fca-a188df627e43');\n",
              "          const dataTable =\n",
              "            await google.colab.kernel.invokeFunction('convertToInteractive',\n",
              "                                                     [key], {});\n",
              "          if (!dataTable) return;\n",
              "\n",
              "          const docLinkHtml = 'Like what you see? Visit the ' +\n",
              "            '<a target=\"_blank\" href=https://colab.research.google.com/notebooks/data_table.ipynb>data table notebook</a>'\n",
              "            + ' to learn more about interactive tables.';\n",
              "          element.innerHTML = '';\n",
              "          dataTable['output_type'] = 'display_data';\n",
              "          await google.colab.output.renderOutput(dataTable, element);\n",
              "          const docLink = document.createElement('div');\n",
              "          docLink.innerHTML = docLinkHtml;\n",
              "          element.appendChild(docLink);\n",
              "        }\n",
              "      </script>\n",
              "    </div>\n",
              "  </div>\n",
              "  "
            ]
          },
          "metadata": {},
          "execution_count": 37
        }
      ],
      "source": [
        "data.describe()"
      ]
    },
    {
      "cell_type": "markdown",
      "metadata": {
        "id": "RWOOtX9Tj9o5"
      },
      "source": [
        "and make the last check or nulls"
      ]
    },
    {
      "cell_type": "code",
      "execution_count": 38,
      "metadata": {
        "id": "IpElH9fTj9o5",
        "colab": {
          "base_uri": "https://localhost:8080/"
        },
        "outputId": "43b2779a-8837-4e9f-c5b5-d783838b7ecd"
      },
      "outputs": [
        {
          "output_type": "stream",
          "name": "stdout",
          "text": [
            "<class 'pandas.core.frame.DataFrame'>\n",
            "RangeIndex: 319073 entries, 0 to 319072\n",
            "Data columns (total 11 columns):\n",
            " #   Column             Non-Null Count   Dtype  \n",
            "---  ------             --------------   -----  \n",
            " 0   YEAR               319073 non-null  int64  \n",
            " 1   MONTH              319073 non-null  int64  \n",
            " 2   HOUR               319073 non-null  int64  \n",
            " 3   Lat code           319073 non-null  float64\n",
            " 4   Long code          319073 non-null  float64\n",
            " 5   shooting code      319073 non-null  int64  \n",
            " 6   Offense Code       319073 non-null  int64  \n",
            " 7   Offense Desc Code  319073 non-null  int64  \n",
            " 8   District Code      319073 non-null  int64  \n",
            " 9   Day Code           319073 non-null  int64  \n",
            " 10  UCR Code           319073 non-null  int64  \n",
            "dtypes: float64(2), int64(9)\n",
            "memory usage: 26.8 MB\n"
          ]
        }
      ],
      "source": [
        "data.info()"
      ]
    },
    {
      "cell_type": "markdown",
      "metadata": {
        "id": "o4DWRE2sj9o5"
      },
      "source": [
        "___\n",
        "\n",
        "# Run the Model\n",
        "\n",
        "\n",
        "so we are ready to run the unsupervised model for it now \n",
        "\n",
        "\n",
        "first let's split the data to train & test"
      ]
    },
    {
      "cell_type": "code",
      "execution_count": 39,
      "metadata": {
        "id": "F5Qgcak6j9o5"
      },
      "outputs": [],
      "source": [
        "X_train = data[:250000]\n",
        "X_test = data[250000:]"
      ]
    },
    {
      "cell_type": "markdown",
      "metadata": {
        "id": "iJnaZU7qj9o5"
      },
      "source": [
        "how about the shape ? "
      ]
    },
    {
      "cell_type": "code",
      "execution_count": 40,
      "metadata": {
        "id": "oYFb5kmEj9o5",
        "colab": {
          "base_uri": "https://localhost:8080/"
        },
        "outputId": "cdef90b9-1767-40c0-d09b-a9ca50dbcedb"
      },
      "outputs": [
        {
          "output_type": "stream",
          "name": "stdout",
          "text": [
            "X Train Shape is (250000, 11)\n",
            "X Test Shape is (69073, 11)\n"
          ]
        }
      ],
      "source": [
        "print('X Train Shape is {}'.format(X_train.shape))\n",
        "print('X Test Shape is {}'.format(X_test.shape))"
      ]
    },
    {
      "cell_type": "markdown",
      "metadata": {
        "id": "9SW67Zz2j9o5"
      },
      "source": [
        "____\n",
        "\n",
        "so we'll use 3 models to choose the best one\n",
        "\n",
        "lets start with Kmeans , from Sklearn"
      ]
    },
    {
      "cell_type": "code",
      "execution_count": 41,
      "metadata": {
        "id": "74JQNX7Dj9o5",
        "colab": {
          "base_uri": "https://localhost:8080/",
          "height": 164
        },
        "outputId": "6a86ecbb-5844-456f-b336-475d94f92cb4"
      },
      "outputs": [
        {
          "output_type": "stream",
          "name": "stderr",
          "text": [
            "/usr/local/lib/python3.10/dist-packages/sklearn/cluster/_kmeans.py:870: FutureWarning: The default value of `n_init` will change from 10 to 'auto' in 1.4. Set the value of `n_init` explicitly to suppress the warning\n",
            "  warnings.warn(\n",
            "/usr/local/lib/python3.10/dist-packages/sklearn/cluster/_kmeans.py:1366: FutureWarning: algorithm='auto' is deprecated, it will be removed in 1.3. Using 'lloyd' instead.\n",
            "  warnings.warn(\n"
          ]
        },
        {
          "output_type": "execute_result",
          "data": {
            "text/plain": [
              "KMeans(algorithm='auto', n_clusters=5, random_state=33)"
            ],
            "text/html": [
              "<style>#sk-container-id-1 {color: black;background-color: white;}#sk-container-id-1 pre{padding: 0;}#sk-container-id-1 div.sk-toggleable {background-color: white;}#sk-container-id-1 label.sk-toggleable__label {cursor: pointer;display: block;width: 100%;margin-bottom: 0;padding: 0.3em;box-sizing: border-box;text-align: center;}#sk-container-id-1 label.sk-toggleable__label-arrow:before {content: \"▸\";float: left;margin-right: 0.25em;color: #696969;}#sk-container-id-1 label.sk-toggleable__label-arrow:hover:before {color: black;}#sk-container-id-1 div.sk-estimator:hover label.sk-toggleable__label-arrow:before {color: black;}#sk-container-id-1 div.sk-toggleable__content {max-height: 0;max-width: 0;overflow: hidden;text-align: left;background-color: #f0f8ff;}#sk-container-id-1 div.sk-toggleable__content pre {margin: 0.2em;color: black;border-radius: 0.25em;background-color: #f0f8ff;}#sk-container-id-1 input.sk-toggleable__control:checked~div.sk-toggleable__content {max-height: 200px;max-width: 100%;overflow: auto;}#sk-container-id-1 input.sk-toggleable__control:checked~label.sk-toggleable__label-arrow:before {content: \"▾\";}#sk-container-id-1 div.sk-estimator input.sk-toggleable__control:checked~label.sk-toggleable__label {background-color: #d4ebff;}#sk-container-id-1 div.sk-label input.sk-toggleable__control:checked~label.sk-toggleable__label {background-color: #d4ebff;}#sk-container-id-1 input.sk-hidden--visually {border: 0;clip: rect(1px 1px 1px 1px);clip: rect(1px, 1px, 1px, 1px);height: 1px;margin: -1px;overflow: hidden;padding: 0;position: absolute;width: 1px;}#sk-container-id-1 div.sk-estimator {font-family: monospace;background-color: #f0f8ff;border: 1px dotted black;border-radius: 0.25em;box-sizing: border-box;margin-bottom: 0.5em;}#sk-container-id-1 div.sk-estimator:hover {background-color: #d4ebff;}#sk-container-id-1 div.sk-parallel-item::after {content: \"\";width: 100%;border-bottom: 1px solid gray;flex-grow: 1;}#sk-container-id-1 div.sk-label:hover label.sk-toggleable__label {background-color: #d4ebff;}#sk-container-id-1 div.sk-serial::before {content: \"\";position: absolute;border-left: 1px solid gray;box-sizing: border-box;top: 0;bottom: 0;left: 50%;z-index: 0;}#sk-container-id-1 div.sk-serial {display: flex;flex-direction: column;align-items: center;background-color: white;padding-right: 0.2em;padding-left: 0.2em;position: relative;}#sk-container-id-1 div.sk-item {position: relative;z-index: 1;}#sk-container-id-1 div.sk-parallel {display: flex;align-items: stretch;justify-content: center;background-color: white;position: relative;}#sk-container-id-1 div.sk-item::before, #sk-container-id-1 div.sk-parallel-item::before {content: \"\";position: absolute;border-left: 1px solid gray;box-sizing: border-box;top: 0;bottom: 0;left: 50%;z-index: -1;}#sk-container-id-1 div.sk-parallel-item {display: flex;flex-direction: column;z-index: 1;position: relative;background-color: white;}#sk-container-id-1 div.sk-parallel-item:first-child::after {align-self: flex-end;width: 50%;}#sk-container-id-1 div.sk-parallel-item:last-child::after {align-self: flex-start;width: 50%;}#sk-container-id-1 div.sk-parallel-item:only-child::after {width: 0;}#sk-container-id-1 div.sk-dashed-wrapped {border: 1px dashed gray;margin: 0 0.4em 0.5em 0.4em;box-sizing: border-box;padding-bottom: 0.4em;background-color: white;}#sk-container-id-1 div.sk-label label {font-family: monospace;font-weight: bold;display: inline-block;line-height: 1.2em;}#sk-container-id-1 div.sk-label-container {text-align: center;}#sk-container-id-1 div.sk-container {/* jupyter's `normalize.less` sets `[hidden] { display: none; }` but bootstrap.min.css set `[hidden] { display: none !important; }` so we also need the `!important` here to be able to override the default hidden behavior on the sphinx rendered scikit-learn.org. See: https://github.com/scikit-learn/scikit-learn/issues/21755 */display: inline-block !important;position: relative;}#sk-container-id-1 div.sk-text-repr-fallback {display: none;}</style><div id=\"sk-container-id-1\" class=\"sk-top-container\"><div class=\"sk-text-repr-fallback\"><pre>KMeans(algorithm=&#x27;auto&#x27;, n_clusters=5, random_state=33)</pre><b>In a Jupyter environment, please rerun this cell to show the HTML representation or trust the notebook. <br />On GitHub, the HTML representation is unable to render, please try loading this page with nbviewer.org.</b></div><div class=\"sk-container\" hidden><div class=\"sk-item\"><div class=\"sk-estimator sk-toggleable\"><input class=\"sk-toggleable__control sk-hidden--visually\" id=\"sk-estimator-id-1\" type=\"checkbox\" checked><label for=\"sk-estimator-id-1\" class=\"sk-toggleable__label sk-toggleable__label-arrow\">KMeans</label><div class=\"sk-toggleable__content\"><pre>KMeans(algorithm=&#x27;auto&#x27;, n_clusters=5, random_state=33)</pre></div></div></div></div></div>"
            ]
          },
          "metadata": {},
          "execution_count": 41
        }
      ],
      "source": [
        "KMeansModel = KMeans(n_clusters=5,init='k-means++', #also can be random\n",
        "                     random_state=33,algorithm= 'auto') # also can be full or elkan\n",
        "KMeansModel.fit(X_train)"
      ]
    },
    {
      "cell_type": "markdown",
      "metadata": {
        "id": "b_vo4WFNj9o6"
      },
      "source": [
        "____\n",
        "\n",
        "now we need to have a look to its attributes"
      ]
    },
    {
      "cell_type": "code",
      "execution_count": 42,
      "metadata": {
        "id": "xoN3dmYoj9o6",
        "colab": {
          "base_uri": "https://localhost:8080/"
        },
        "outputId": "1c2ac100-4f40-4453-fc52-a7df91dfe89e"
      },
      "outputs": [
        {
          "output_type": "stream",
          "name": "stdout",
          "text": [
            "KMeansModel centers are :  [[ 2.01693619e+03  6.33527893e+00  1.30638119e+01  4.22348647e+01\n",
            "  -7.09413492e+01  2.80615108e-04  5.86806039e+01  2.65291840e+01\n",
            "   5.11808284e+00  2.96840274e+00  2.48574475e+00]\n",
            " [ 2.01692765e+03  6.42162556e+00  1.33280945e+01  4.22242126e+01\n",
            "  -7.09219112e+01  1.40628662e-03  4.07947993e+01  1.60396963e+02\n",
            "   5.28378343e+00  2.95515508e+00  1.70194536e+00]\n",
            " [ 2.01693568e+03  6.30399187e+00  1.29130761e+01  4.22129249e+01\n",
            "  -7.09088595e+01  2.22509765e-03  5.44483572e+01  2.23900512e+02\n",
            "   5.13419516e+00  3.03188904e+00  2.34064552e+00]\n",
            " [ 2.01691427e+03  6.48804974e+00  1.30925241e+01  4.21115607e+01\n",
            "  -7.07462348e+01  5.78404842e-04  2.77418455e+01  1.15935508e+02\n",
            "   5.30527381e+00  3.00634180e+00  2.22989527e+00]\n",
            " [ 2.01692126e+03  6.31587184e+00  1.35363232e+01  4.21767136e+01\n",
            "  -7.08444300e+01  1.96853636e-02  9.79651594e+00  4.53046289e+01\n",
            "   4.95712874e+00  3.00498312e+00  2.05773824e+00]]\n",
            "---------------------------------------------------\n",
            "KMeansModel labels are :  [3 2 2 3 3 1 4 2 2 2 2 3 3 2 1 2 2 4 2 1]\n",
            "---------------------------------------------------\n",
            "KMeansModel intertia is :  87220068.66962627\n",
            "---------------------------------------------------\n",
            "KMeansModel No. of iteration is :  5\n",
            "---------------------------------------------------\n"
          ]
        }
      ],
      "source": [
        "print('KMeansModel centers are : ' , KMeansModel.cluster_centers_)\n",
        "print('---------------------------------------------------')\n",
        "print('KMeansModel labels are : ' , KMeansModel.labels_[:20])\n",
        "print('---------------------------------------------------')\n",
        "print('KMeansModel intertia is : ' , KMeansModel.inertia_)\n",
        "print('---------------------------------------------------')\n",
        "print('KMeansModel No. of iteration is : ' , KMeansModel.n_iter_)\n",
        "print('---------------------------------------------------')\n"
      ]
    },
    {
      "cell_type": "markdown",
      "metadata": {
        "id": "QuyacHNEj9o6"
      },
      "source": [
        "how about predicting from x_test"
      ]
    },
    {
      "cell_type": "code",
      "execution_count": 43,
      "metadata": {
        "id": "dPhzUZc8j9o6",
        "colab": {
          "base_uri": "https://localhost:8080/"
        },
        "outputId": "a457588f-7f40-4b6f-ee5c-84621a05e525"
      },
      "outputs": [
        {
          "output_type": "stream",
          "name": "stdout",
          "text": [
            "Predicted Value for KMeansModel is :  [0 2 2 2 2 1 2 0 2 2]\n"
          ]
        }
      ],
      "source": [
        "#Calculating Prediction\n",
        "y_pred = KMeansModel.predict(X_test)\n",
        "print('Predicted Value for KMeansModel is : ' , y_pred[:10])"
      ]
    },
    {
      "cell_type": "markdown",
      "metadata": {
        "id": "TDxBU10Qj9o6"
      },
      "source": [
        "____\n",
        "\n",
        "then lets use KNN model for unsupervised training"
      ]
    },
    {
      "cell_type": "code",
      "execution_count": 44,
      "metadata": {
        "id": "Ts21tCo0j9o6",
        "colab": {
          "base_uri": "https://localhost:8080/",
          "height": 75
        },
        "outputId": "f8e073e4-fdee-435c-a9cc-c90df1fd3971"
      },
      "outputs": [
        {
          "output_type": "execute_result",
          "data": {
            "text/plain": [
              "NearestNeighbors(n_neighbors=4)"
            ],
            "text/html": [
              "<style>#sk-container-id-2 {color: black;background-color: white;}#sk-container-id-2 pre{padding: 0;}#sk-container-id-2 div.sk-toggleable {background-color: white;}#sk-container-id-2 label.sk-toggleable__label {cursor: pointer;display: block;width: 100%;margin-bottom: 0;padding: 0.3em;box-sizing: border-box;text-align: center;}#sk-container-id-2 label.sk-toggleable__label-arrow:before {content: \"▸\";float: left;margin-right: 0.25em;color: #696969;}#sk-container-id-2 label.sk-toggleable__label-arrow:hover:before {color: black;}#sk-container-id-2 div.sk-estimator:hover label.sk-toggleable__label-arrow:before {color: black;}#sk-container-id-2 div.sk-toggleable__content {max-height: 0;max-width: 0;overflow: hidden;text-align: left;background-color: #f0f8ff;}#sk-container-id-2 div.sk-toggleable__content pre {margin: 0.2em;color: black;border-radius: 0.25em;background-color: #f0f8ff;}#sk-container-id-2 input.sk-toggleable__control:checked~div.sk-toggleable__content {max-height: 200px;max-width: 100%;overflow: auto;}#sk-container-id-2 input.sk-toggleable__control:checked~label.sk-toggleable__label-arrow:before {content: \"▾\";}#sk-container-id-2 div.sk-estimator input.sk-toggleable__control:checked~label.sk-toggleable__label {background-color: #d4ebff;}#sk-container-id-2 div.sk-label input.sk-toggleable__control:checked~label.sk-toggleable__label {background-color: #d4ebff;}#sk-container-id-2 input.sk-hidden--visually {border: 0;clip: rect(1px 1px 1px 1px);clip: rect(1px, 1px, 1px, 1px);height: 1px;margin: -1px;overflow: hidden;padding: 0;position: absolute;width: 1px;}#sk-container-id-2 div.sk-estimator {font-family: monospace;background-color: #f0f8ff;border: 1px dotted black;border-radius: 0.25em;box-sizing: border-box;margin-bottom: 0.5em;}#sk-container-id-2 div.sk-estimator:hover {background-color: #d4ebff;}#sk-container-id-2 div.sk-parallel-item::after {content: \"\";width: 100%;border-bottom: 1px solid gray;flex-grow: 1;}#sk-container-id-2 div.sk-label:hover label.sk-toggleable__label {background-color: #d4ebff;}#sk-container-id-2 div.sk-serial::before {content: \"\";position: absolute;border-left: 1px solid gray;box-sizing: border-box;top: 0;bottom: 0;left: 50%;z-index: 0;}#sk-container-id-2 div.sk-serial {display: flex;flex-direction: column;align-items: center;background-color: white;padding-right: 0.2em;padding-left: 0.2em;position: relative;}#sk-container-id-2 div.sk-item {position: relative;z-index: 1;}#sk-container-id-2 div.sk-parallel {display: flex;align-items: stretch;justify-content: center;background-color: white;position: relative;}#sk-container-id-2 div.sk-item::before, #sk-container-id-2 div.sk-parallel-item::before {content: \"\";position: absolute;border-left: 1px solid gray;box-sizing: border-box;top: 0;bottom: 0;left: 50%;z-index: -1;}#sk-container-id-2 div.sk-parallel-item {display: flex;flex-direction: column;z-index: 1;position: relative;background-color: white;}#sk-container-id-2 div.sk-parallel-item:first-child::after {align-self: flex-end;width: 50%;}#sk-container-id-2 div.sk-parallel-item:last-child::after {align-self: flex-start;width: 50%;}#sk-container-id-2 div.sk-parallel-item:only-child::after {width: 0;}#sk-container-id-2 div.sk-dashed-wrapped {border: 1px dashed gray;margin: 0 0.4em 0.5em 0.4em;box-sizing: border-box;padding-bottom: 0.4em;background-color: white;}#sk-container-id-2 div.sk-label label {font-family: monospace;font-weight: bold;display: inline-block;line-height: 1.2em;}#sk-container-id-2 div.sk-label-container {text-align: center;}#sk-container-id-2 div.sk-container {/* jupyter's `normalize.less` sets `[hidden] { display: none; }` but bootstrap.min.css set `[hidden] { display: none !important; }` so we also need the `!important` here to be able to override the default hidden behavior on the sphinx rendered scikit-learn.org. See: https://github.com/scikit-learn/scikit-learn/issues/21755 */display: inline-block !important;position: relative;}#sk-container-id-2 div.sk-text-repr-fallback {display: none;}</style><div id=\"sk-container-id-2\" class=\"sk-top-container\"><div class=\"sk-text-repr-fallback\"><pre>NearestNeighbors(n_neighbors=4)</pre><b>In a Jupyter environment, please rerun this cell to show the HTML representation or trust the notebook. <br />On GitHub, the HTML representation is unable to render, please try loading this page with nbviewer.org.</b></div><div class=\"sk-container\" hidden><div class=\"sk-item\"><div class=\"sk-estimator sk-toggleable\"><input class=\"sk-toggleable__control sk-hidden--visually\" id=\"sk-estimator-id-2\" type=\"checkbox\" checked><label for=\"sk-estimator-id-2\" class=\"sk-toggleable__label sk-toggleable__label-arrow\">NearestNeighbors</label><div class=\"sk-toggleable__content\"><pre>NearestNeighbors(n_neighbors=4)</pre></div></div></div></div></div>"
            ]
          },
          "metadata": {},
          "execution_count": 44
        }
      ],
      "source": [
        "NearestNeighborsModel = NearestNeighbors(n_neighbors=4,radius=1.0,algorithm='auto')#it can be:ball_tree,kd_tree,brute\n",
        "NearestNeighborsModel.fit(X_train)"
      ]
    },
    {
      "cell_type": "markdown",
      "metadata": {
        "id": "VEIBp_Fwj9o6"
      },
      "source": [
        "then check the attributes"
      ]
    },
    {
      "cell_type": "code",
      "execution_count": 45,
      "metadata": {
        "id": "LAVnnYaRj9o6",
        "colab": {
          "base_uri": "https://localhost:8080/"
        },
        "outputId": "40556b17-2579-439c-9c1b-b51dd031f38d"
      },
      "outputs": [
        {
          "output_type": "stream",
          "name": "stdout",
          "text": [
            "NearestNeighborsModel Train kneighbors are :  (array([[0.        , 1.41428427, 1.41626269, 1.41626269],\n",
            "       [0.        , 1.00005   , 1.0004499 , 1.41424892],\n",
            "       [0.        , 1.41477913, 1.73207967, 1.73216627],\n",
            "       [0.        , 1.00039992, 1.41435498, 1.41439033],\n",
            "       [0.        , 1.41421356, 1.41439033, 1.41439033]]), array([[    0,  7744, 98599,  4220],\n",
            "       [    1, 26618,  1035,  7112],\n",
            "       [    2, 92073,  4420, 96952],\n",
            "       [    3, 93633,  7833, 92701],\n",
            "       [    4,  2417, 94202, 94226]]))\n",
            "----------------------------------------------------\n",
            "NearestNeighborsModel Train radius kneighbors are :  (array([array([0.])], dtype=object), array([array([0])], dtype=object))\n",
            "----------------------------------------------------\n",
            "NearestNeighborsModel Test kneighbors are :  (array([[1.00005   , 1.00005   , 1.0001    , 1.41424892],\n",
            "       [0.        , 1.41421356, 1.41424892, 1.41428427],\n",
            "       [0.02236068, 2.00019999, 2.001999  , 2.23629157],\n",
            "       [0.01414214, 1.41424892, 1.41456707, 1.41467311],\n",
            "       [1.00019998, 1.00019998, 1.0004499 , 1.00049988]]), array([[235051, 249992, 249991, 238799],\n",
            "       [246367, 238808, 150924, 150950],\n",
            "       [246390, 137107, 241828,  44014],\n",
            "       [248289, 240713, 147372, 135997],\n",
            "       [246367, 238808, 246402, 150950]]))\n",
            "----------------------------------------------------\n",
            "NearestNeighborsModel Test  radius kneighbors are :  (array([array([], dtype=float64)], dtype=object), array([array([], dtype=int64)], dtype=object))\n",
            "----------------------------------------------------\n"
          ]
        }
      ],
      "source": [
        "#Calculating Details\n",
        "print('NearestNeighborsModel Train kneighbors are : ' , NearestNeighborsModel.kneighbors(X_train[: 5]))\n",
        "print('----------------------------------------------------')\n",
        "print('NearestNeighborsModel Train radius kneighbors are : ' , NearestNeighborsModel.radius_neighbors(X_train[:  1]))\n",
        "print('----------------------------------------------------')\n",
        "print('NearestNeighborsModel Test kneighbors are : ' , NearestNeighborsModel.kneighbors(X_test[: 5]))\n",
        "print('----------------------------------------------------')\n",
        "print('NearestNeighborsModel Test  radius kneighbors are : ' , NearestNeighborsModel.radius_neighbors(X_test[:  1]))\n",
        "print('----------------------------------------------------')"
      ]
    },
    {
      "cell_type": "markdown",
      "metadata": {
        "id": "SM2d2OYXj9o6"
      },
      "source": [
        "____\n",
        "\n",
        "also we can use Hierarchical clusering , it migh be useful , but we've to limit the using data to a tiny amount , lets say we'll check it in the first 1000 sample size"
      ]
    },
    {
      "cell_type": "code",
      "execution_count": 46,
      "metadata": {
        "id": "RnLylUXjj9o6",
        "colab": {
          "base_uri": "https://localhost:8080/"
        },
        "outputId": "4fe45d9e-cfd7-42c3-93c6-5356c1607cff"
      },
      "outputs": [
        {
          "output_type": "stream",
          "name": "stderr",
          "text": [
            "/usr/local/lib/python3.10/dist-packages/sklearn/cluster/_agglomerative.py:983: FutureWarning: Attribute `affinity` was deprecated in version 1.2 and will be removed in 1.4. Use `metric` instead\n",
            "  warnings.warn(\n",
            "/usr/local/lib/python3.10/dist-packages/sklearn/cluster/_agglomerative.py:983: FutureWarning: Attribute `affinity` was deprecated in version 1.2 and will be removed in 1.4. Use `metric` instead\n",
            "  warnings.warn(\n"
          ]
        }
      ],
      "source": [
        "AggClusteringModel = AgglomerativeClustering(n_clusters=5,affinity='euclidean',# it can be l1,l2,manhattan,cosine,precomputed\n",
        "                                             linkage='ward')# it can be complete,average,single\n",
        "\n",
        "y_pred_train = AggClusteringModel.fit_predict(X_train[:1000])\n",
        "y_pred_test = AggClusteringModel.fit_predict(X_test[:1000])\n"
      ]
    },
    {
      "cell_type": "markdown",
      "metadata": {
        "id": "38JcVga_j9o6"
      },
      "source": [
        "now we can draw the dendogram using Scipy , for the first 30 record of training set"
      ]
    },
    {
      "cell_type": "code",
      "execution_count": 47,
      "metadata": {
        "id": "XgIOxNyFj9o6",
        "colab": {
          "base_uri": "https://localhost:8080/",
          "height": 480
        },
        "outputId": "fc22a9c5-c5bb-4bbb-b212-afad5526ce11"
      },
      "outputs": [
        {
          "output_type": "display_data",
          "data": {
            "text/plain": [
              "<Figure size 640x480 with 1 Axes>"
            ],
            "image/png": "[encoded data removed]"
          },
          "metadata": {}
        }
      ],
      "source": [
        "#draw the Hierarchical graph for Training set\n",
        "dendrogram = sch.dendrogram(sch.linkage(X_train[:30], method = 'ward'))# it can be complete,average,single\n",
        "plt.title('Training Set')\n",
        "plt.xlabel('X Values')\n",
        "plt.ylabel('Distances')\n",
        "plt.show()\n",
        "\n"
      ]
    },
    {
      "cell_type": "markdown",
      "metadata": {
        "id": "UeeT6JSlj9o6"
      },
      "source": [
        "and we can check it in the first 30 record in the test set"
      ]
    },
    {
      "cell_type": "code",
      "execution_count": 48,
      "metadata": {
        "id": "pnGll2rzj9o7",
        "colab": {
          "base_uri": "https://localhost:8080/",
          "height": 480
        },
        "outputId": "842d711f-e6c8-4dbb-8505-a3c7aa67a364"
      },
      "outputs": [
        {
          "output_type": "display_data",
          "data": {
            "text/plain": [
              "<Figure size 640x480 with 1 Axes>"
            ],
            "image/png": "[encoded data removed]"
          },
          "metadata": {}
        }
      ],
      "source": [
        "#draw the Hierarchical graph for Test set\n",
        "dendrogram = sch.dendrogram(sch.linkage(X_test[:30], method = 'ward'))# it can be complete,average,single\n",
        "plt.title('Test Set')\n",
        "plt.xlabel('X Value')\n",
        "plt.ylabel('Distances')\n",
        "plt.show()\n",
        "\n"
      ]
    },
    {
      "cell_type": "markdown",
      "metadata": {
        "id": "yeXxWz8-j9o7"
      },
      "source": [
        "___\n",
        "\n",
        "\n",
        "# Finally\n",
        "\n",
        "as we saw now , data processing is the most important step to manipulate data & make it ready for our model \n",
        "\n"
      ]
    }
  ],
  "metadata": {
    "kernelspec": {
      "display_name": "Python 3",
      "language": "python",
      "name": "python3"
    },
    "language_info": {
      "codemirror_mode": {
        "name": "ipython",
        "version": 3
      },
      "file_extension": ".py",
      "mimetype": "text/x-python",
      "name": "python",
      "nbconvert_exporter": "python",
      "pygments_lexer": "ipython3",
      "version": "3.7.3"
    },
    "colab": {
      "provenance": []
    }
  },
  "nbformat": 4,
  "nbformat_minor": 0
}